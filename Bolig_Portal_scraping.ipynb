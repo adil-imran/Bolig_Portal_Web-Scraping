{
 "cells": [
  {
   "cell_type": "markdown",
   "id": "405369f3",
   "metadata": {},
   "source": [
    "# Bolig_Portal Webscraping\n",
    "\n",
    "- It is webscraping of Bolig Portal website which is one of the most famous website to find the rental residence in all over the Denmark.\n",
    "- Webscarping is performed only for the Copenhagen residences.\n",
    "- BeautifulSoup is used for the webscraping\n",
    "## Dataframe\n",
    "    - Dataframe is consist of Apartments, Address, Rent, Rooms, Area(m2), URL(include all urls of the apartments)\n",
    "    - Longitude and Latitude is added by using geopy.geocoders with import ArcGIS\n",
    "    - Distance is measured in km from Copenhagen Central Station to Apartment address with the help of geopy great_circle\n",
    "    - Copenhagen map is printed with display of 6 rooms apartment by using folium library"
   ]
  },
  {
   "cell_type": "code",
   "execution_count": 305,
   "id": "25f176fd",
   "metadata": {},
   "outputs": [],
   "source": [
    "import requests\n",
    "from bs4 import BeautifulSoup\n",
    "import pandas as pd\n",
    "import numpy as np\n",
    "import re\n",
    "from itertools import chain\n",
    "from geopy.geocoders import ArcGIS\n",
    "from geopy.distance import geodesic\n",
    "from geopy.distance import great_circle\n",
    "import folium"
   ]
  },
  {
   "cell_type": "markdown",
   "id": "dffdc29a",
   "metadata": {},
   "source": [
    "# URL\n",
    "- The main url which is scraped"
   ]
  },
  {
   "cell_type": "code",
   "execution_count": 6,
   "id": "6d96ef96",
   "metadata": {},
   "outputs": [],
   "source": [
    "main_url=\"https://www.boligportal.dk/en/rental-properties/k%C3%B8benhavn/\"\n",
    "soup= BeautifulSoup(requests.get(main_url).content, \"lxml\")"
   ]
  },
  {
   "cell_type": "markdown",
   "id": "fae151e5",
   "metadata": {},
   "source": [
    "# Key Elements of First Page Scraped  "
   ]
  },
  {
   "cell_type": "code",
   "execution_count": 24,
   "id": "9321245c",
   "metadata": {},
   "outputs": [],
   "source": [
    "Apartments=[i.text for i in soup.find_all('div', class_=\"css-xr43j5-Text-Text\")]\n",
    "Address=[i.text for i in soup.find_all('div',class_='css-1wrf1k9-Text-Text')]\n",
    "Rent=[i.text for i in soup.find_all(\"span\", class_=\"css-sdrc0-Text-Text\")]"
   ]
  },
  {
   "cell_type": "markdown",
   "id": "40e62a97",
   "metadata": {},
   "source": [
    "# All URLS with key Elements\n",
    "- It included all urls of all pages\n",
    "- Key elements which are Apartments, Address and Rent scraped from all the pages."
   ]
  },
  {
   "cell_type": "code",
   "execution_count": null,
   "id": "0e88e92e",
   "metadata": {},
   "outputs": [],
   "source": [
    "offst_inc=18"
   ]
  },
  {
   "cell_type": "code",
   "execution_count": 7,
   "id": "5fdab1f8",
   "metadata": {},
   "outputs": [],
   "source": [
    "all_pages = \"https://www.boligportal.dk/en/rental-properties/k%C3%B8benhavn/?offset=\""
   ]
  },
  {
   "cell_type": "code",
   "execution_count": 10,
   "id": "e7b652fe",
   "metadata": {},
   "outputs": [
    {
     "name": "stdout",
     "output_type": "stream",
     "text": [
      "Wall time: 1min 12s\n"
     ]
    }
   ],
   "source": [
    "%%time\n",
    "all_urls=[]\n",
    "Apartments=[]\n",
    "Address=[]\n",
    "Rent=[]\n",
    "page = main_url\n",
    "offst_inc=0\n",
    "for i in range(80):  \n",
    "    soup= BeautifulSoup(requests.get(page).content, \"lxml\")\n",
    "    urls = soup.find_all('div', class_=\"css-boo8iq-Box-Box\")\n",
    "    Aprt= [i.text for i in soup.find_all('div', class_=\"css-xr43j5-Text-Text\")]\n",
    "    Add=[i.text for i in soup.find_all('div',class_='css-1wrf1k9-Text-Text')]\n",
    "    Rnt=[i.text for i in soup.find_all(\"span\", class_=\"css-sdrc0-Text-Text\")]\n",
    "    Apartments.append(Aprt)\n",
    "    Address.append(Add)\n",
    "    Rent.append(Rnt)   \n",
    "    for i in range(len(urls)):\n",
    "        all_urls.append(\"https://www.boligportal.dk\"+urls[i].a['href'])\n",
    "\n",
    "    offst_inc=offst_inc+18\n",
    "    page= main_url + \"?offset=\"+str(offst_inc)"
   ]
  },
  {
   "cell_type": "markdown",
   "id": "146032b2",
   "metadata": {},
   "source": [
    "## Key Elements Converted to List\n",
    "    - Key elements were in nested list which are changed into list"
   ]
  },
  {
   "cell_type": "code",
   "execution_count": 12,
   "id": "d5d48f3e",
   "metadata": {},
   "outputs": [],
   "source": [
    "Apartment = list(chain(*Apartments))\n",
    "Rent= list(chain(*Rent))\n",
    "Address= list(chain(*Address))"
   ]
  },
  {
   "cell_type": "code",
   "execution_count": 13,
   "id": "a2326997",
   "metadata": {},
   "outputs": [
    {
     "name": "stdout",
     "output_type": "stream",
     "text": [
      "1920\n",
      "1920\n",
      "1920\n"
     ]
    }
   ],
   "source": [
    "print(len(Apartment))\n",
    "print(len(Rent))\n",
    "print(len(Address))"
   ]
  },
  {
   "cell_type": "markdown",
   "id": "a0c50a9e",
   "metadata": {},
   "source": [
    "# Dataframe Created"
   ]
  },
  {
   "cell_type": "code",
   "execution_count": 57,
   "id": "5a03401d",
   "metadata": {},
   "outputs": [],
   "source": [
    "df_bolig=pd.DataFrame({\"Apartment\": Apartment, \"Rent\": Rent, \"Address\": Address, \"URL\": all_urls})"
   ]
  },
  {
   "cell_type": "code",
   "execution_count": 15,
   "id": "d6279c37",
   "metadata": {},
   "outputs": [
    {
     "data": {
      "text/html": [
       "<div>\n",
       "<style scoped>\n",
       "    .dataframe tbody tr th:only-of-type {\n",
       "        vertical-align: middle;\n",
       "    }\n",
       "\n",
       "    .dataframe tbody tr th {\n",
       "        vertical-align: top;\n",
       "    }\n",
       "\n",
       "    .dataframe thead th {\n",
       "        text-align: right;\n",
       "    }\n",
       "</style>\n",
       "<table border=\"1\" class=\"dataframe\">\n",
       "  <thead>\n",
       "    <tr style=\"text-align: right;\">\n",
       "      <th></th>\n",
       "      <th>Apartment</th>\n",
       "      <th>Rent</th>\n",
       "      <th>Address</th>\n",
       "      <th>URL</th>\n",
       "    </tr>\n",
       "  </thead>\n",
       "  <tbody>\n",
       "    <tr>\n",
       "      <th>0</th>\n",
       "      <td>2 rm. · Apartment · 60 m²</td>\n",
       "      <td>8.700 kr.</td>\n",
       "      <td>København, Vigerslevvej</td>\n",
       "      <td>https://www.boligportal.dk/en/rental-apartment...</td>\n",
       "    </tr>\n",
       "    <tr>\n",
       "      <th>1</th>\n",
       "      <td>3 rm. · Apartment · 102 m²</td>\n",
       "      <td>16.500 kr.</td>\n",
       "      <td>København, Hans Hedtofts Gade</td>\n",
       "      <td>https://www.boligportal.dk/en/rental-apartment...</td>\n",
       "    </tr>\n",
       "    <tr>\n",
       "      <th>2</th>\n",
       "      <td>2 rm. · Apartment · 60 m²</td>\n",
       "      <td>8.429 kr.</td>\n",
       "      <td>København, Romsdalsgade</td>\n",
       "      <td>https://www.boligportal.dk/en/rental-apartment...</td>\n",
       "    </tr>\n",
       "    <tr>\n",
       "      <th>3</th>\n",
       "      <td>3 rm. · Apartment · 88 m²</td>\n",
       "      <td>12.000 kr.</td>\n",
       "      <td>København, Guldborgvej</td>\n",
       "      <td>https://www.boligportal.dk/en/rental-apartment...</td>\n",
       "    </tr>\n",
       "    <tr>\n",
       "      <th>4</th>\n",
       "      <td>1 rm. · Room · 9 m²</td>\n",
       "      <td>3.500 kr.</td>\n",
       "      <td>København, Charlotte Muncks Vej</td>\n",
       "      <td>https://www.boligportal.dk/en/rental-rooms/k%C...</td>\n",
       "    </tr>\n",
       "    <tr>\n",
       "      <th>...</th>\n",
       "      <td>...</td>\n",
       "      <td>...</td>\n",
       "      <td>...</td>\n",
       "      <td>...</td>\n",
       "    </tr>\n",
       "    <tr>\n",
       "      <th>1915</th>\n",
       "      <td>4 rm. · Apartment · 111 m²</td>\n",
       "      <td>18.215 kr.</td>\n",
       "      <td>Hellerup, C V E Knuths Vej</td>\n",
       "      <td>https://www.boligportal.dk/lejligheder/helleru...</td>\n",
       "    </tr>\n",
       "    <tr>\n",
       "      <th>1916</th>\n",
       "      <td>3 rm. · Apartment · 96 m²</td>\n",
       "      <td>13.700 kr.</td>\n",
       "      <td>Brønshøj, Præstegårds Allé</td>\n",
       "      <td>https://www.boligportal.dk/lejligheder/br%C3%B...</td>\n",
       "    </tr>\n",
       "    <tr>\n",
       "      <th>1917</th>\n",
       "      <td>4 rm. · Apartment · 149 m²</td>\n",
       "      <td>34.000 kr.</td>\n",
       "      <td>Hellerup, Tuborg Bakkedrag</td>\n",
       "      <td>https://www.boligportal.dk/lejligheder/helleru...</td>\n",
       "    </tr>\n",
       "    <tr>\n",
       "      <th>1918</th>\n",
       "      <td>4 rm. · Apartment · 115 m²</td>\n",
       "      <td>15.875 kr.</td>\n",
       "      <td>Søborg, Søborg Hovegade</td>\n",
       "      <td>https://www.boligportal.dk/lejligheder/s%C3%B8...</td>\n",
       "    </tr>\n",
       "    <tr>\n",
       "      <th>1919</th>\n",
       "      <td>4 rm. · Apartment · 138 m²</td>\n",
       "      <td>19.296 kr.</td>\n",
       "      <td>Hellerup, C V E Knuths Vej</td>\n",
       "      <td>https://www.boligportal.dk/lejligheder/helleru...</td>\n",
       "    </tr>\n",
       "  </tbody>\n",
       "</table>\n",
       "<p>1920 rows × 4 columns</p>\n",
       "</div>"
      ],
      "text/plain": [
       "                       Apartment        Rent                          Address  \\\n",
       "0      2 rm. · Apartment · 60 m²   8.700 kr.          København, Vigerslevvej   \n",
       "1     3 rm. · Apartment · 102 m²  16.500 kr.    København, Hans Hedtofts Gade   \n",
       "2      2 rm. · Apartment · 60 m²   8.429 kr.          København, Romsdalsgade   \n",
       "3      3 rm. · Apartment · 88 m²  12.000 kr.           København, Guldborgvej   \n",
       "4            1 rm. · Room · 9 m²   3.500 kr.  København, Charlotte Muncks Vej   \n",
       "...                          ...         ...                              ...   \n",
       "1915  4 rm. · Apartment · 111 m²  18.215 kr.       Hellerup, C V E Knuths Vej   \n",
       "1916   3 rm. · Apartment · 96 m²  13.700 kr.       Brønshøj, Præstegårds Allé   \n",
       "1917  4 rm. · Apartment · 149 m²  34.000 kr.       Hellerup, Tuborg Bakkedrag   \n",
       "1918  4 rm. · Apartment · 115 m²  15.875 kr.          Søborg, Søborg Hovegade   \n",
       "1919  4 rm. · Apartment · 138 m²  19.296 kr.       Hellerup, C V E Knuths Vej   \n",
       "\n",
       "                                                    URL  \n",
       "0     https://www.boligportal.dk/en/rental-apartment...  \n",
       "1     https://www.boligportal.dk/en/rental-apartment...  \n",
       "2     https://www.boligportal.dk/en/rental-apartment...  \n",
       "3     https://www.boligportal.dk/en/rental-apartment...  \n",
       "4     https://www.boligportal.dk/en/rental-rooms/k%C...  \n",
       "...                                                 ...  \n",
       "1915  https://www.boligportal.dk/lejligheder/helleru...  \n",
       "1916  https://www.boligportal.dk/lejligheder/br%C3%B...  \n",
       "1917  https://www.boligportal.dk/lejligheder/helleru...  \n",
       "1918  https://www.boligportal.dk/lejligheder/s%C3%B8...  \n",
       "1919  https://www.boligportal.dk/lejligheder/helleru...  \n",
       "\n",
       "[1920 rows x 4 columns]"
      ]
     },
     "execution_count": 15,
     "metadata": {},
     "output_type": "execute_result"
    }
   ],
   "source": [
    "df_bolig"
   ]
  },
  {
   "cell_type": "markdown",
   "id": "0d80d27c",
   "metadata": {},
   "source": [
    "## Dataframe Info"
   ]
  },
  {
   "cell_type": "code",
   "execution_count": 17,
   "id": "817917b6",
   "metadata": {},
   "outputs": [
    {
     "name": "stdout",
     "output_type": "stream",
     "text": [
      "<class 'pandas.core.frame.DataFrame'>\n",
      "RangeIndex: 1920 entries, 0 to 1919\n",
      "Data columns (total 4 columns):\n",
      " #   Column     Non-Null Count  Dtype \n",
      "---  ------     --------------  ----- \n",
      " 0   Apartment  1920 non-null   object\n",
      " 1   Rent       1920 non-null   object\n",
      " 2   Address    1920 non-null   object\n",
      " 3   URL        1920 non-null   object\n",
      "dtypes: object(4)\n",
      "memory usage: 60.1+ KB\n"
     ]
    }
   ],
   "source": [
    "df_bolig.info()"
   ]
  },
  {
   "cell_type": "markdown",
   "id": "1814e664",
   "metadata": {},
   "source": [
    "# Columns Added & Modified\n",
    "- Rent columns is modified only into numbers\n",
    "- Rooms and Area(m2) column added with the help of Regular Expression"
   ]
  },
  {
   "cell_type": "code",
   "execution_count": 59,
   "id": "13e00a40",
   "metadata": {},
   "outputs": [],
   "source": [
    "df_bolig['Rent'] = df_bolig['Rent'].str.extract(r'(\\d+.\\d+)', expand = False)"
   ]
  },
  {
   "cell_type": "code",
   "execution_count": 61,
   "id": "d743b3f3",
   "metadata": {},
   "outputs": [],
   "source": [
    "df_bolig['Rooms'] = df_bolig['Apartment'].str.extract(r\"([0-9]+) .*\", expand = False)"
   ]
  },
  {
   "cell_type": "code",
   "execution_count": 62,
   "id": "87790ad7",
   "metadata": {},
   "outputs": [],
   "source": [
    "df_bolig[\"Area(m²)\"] = df_bolig['Apartment'].str.extract(r\"(\\d+)(?!.*\\d)\", expand = False)"
   ]
  },
  {
   "cell_type": "code",
   "execution_count": 63,
   "id": "14865ef4",
   "metadata": {},
   "outputs": [
    {
     "data": {
      "text/html": [
       "<div>\n",
       "<style scoped>\n",
       "    .dataframe tbody tr th:only-of-type {\n",
       "        vertical-align: middle;\n",
       "    }\n",
       "\n",
       "    .dataframe tbody tr th {\n",
       "        vertical-align: top;\n",
       "    }\n",
       "\n",
       "    .dataframe thead th {\n",
       "        text-align: right;\n",
       "    }\n",
       "</style>\n",
       "<table border=\"1\" class=\"dataframe\">\n",
       "  <thead>\n",
       "    <tr style=\"text-align: right;\">\n",
       "      <th></th>\n",
       "      <th>Apartment</th>\n",
       "      <th>Rent</th>\n",
       "      <th>Address</th>\n",
       "      <th>URL</th>\n",
       "      <th>Rooms</th>\n",
       "      <th>Area(m²)</th>\n",
       "    </tr>\n",
       "  </thead>\n",
       "  <tbody>\n",
       "    <tr>\n",
       "      <th>0</th>\n",
       "      <td>2 rm. · Apartment · 60 m²</td>\n",
       "      <td>8.700</td>\n",
       "      <td>København, Vigerslevvej</td>\n",
       "      <td>https://www.boligportal.dk/en/rental-apartment...</td>\n",
       "      <td>2</td>\n",
       "      <td>60</td>\n",
       "    </tr>\n",
       "    <tr>\n",
       "      <th>1</th>\n",
       "      <td>3 rm. · Apartment · 102 m²</td>\n",
       "      <td>16.500</td>\n",
       "      <td>København, Hans Hedtofts Gade</td>\n",
       "      <td>https://www.boligportal.dk/en/rental-apartment...</td>\n",
       "      <td>3</td>\n",
       "      <td>102</td>\n",
       "    </tr>\n",
       "    <tr>\n",
       "      <th>2</th>\n",
       "      <td>2 rm. · Apartment · 60 m²</td>\n",
       "      <td>8.429</td>\n",
       "      <td>København, Romsdalsgade</td>\n",
       "      <td>https://www.boligportal.dk/en/rental-apartment...</td>\n",
       "      <td>2</td>\n",
       "      <td>60</td>\n",
       "    </tr>\n",
       "  </tbody>\n",
       "</table>\n",
       "</div>"
      ],
      "text/plain": [
       "                    Apartment    Rent                        Address  \\\n",
       "0   2 rm. · Apartment · 60 m²   8.700        København, Vigerslevvej   \n",
       "1  3 rm. · Apartment · 102 m²  16.500  København, Hans Hedtofts Gade   \n",
       "2   2 rm. · Apartment · 60 m²   8.429        København, Romsdalsgade   \n",
       "\n",
       "                                                 URL Rooms Area(m²)  \n",
       "0  https://www.boligportal.dk/en/rental-apartment...     2       60  \n",
       "1  https://www.boligportal.dk/en/rental-apartment...     3      102  \n",
       "2  https://www.boligportal.dk/en/rental-apartment...     2       60  "
      ]
     },
     "execution_count": 63,
     "metadata": {},
     "output_type": "execute_result"
    }
   ],
   "source": [
    "df_bolig.head(3)"
   ]
  },
  {
   "cell_type": "markdown",
   "id": "b76977cc",
   "metadata": {},
   "source": [
    "## Datatype is changed to Numeric"
   ]
  },
  {
   "cell_type": "code",
   "execution_count": 95,
   "id": "96617651",
   "metadata": {},
   "outputs": [],
   "source": [
    "df_bolig[[\"Rent\", \"Rooms\", \"Area(m²)\"]] = df_bolig[[\"Rent\", \"Rooms\", \"Area(m²)\"]].apply(pd.to_numeric)"
   ]
  },
  {
   "cell_type": "code",
   "execution_count": 96,
   "id": "44d06c6e",
   "metadata": {},
   "outputs": [
    {
     "name": "stdout",
     "output_type": "stream",
     "text": [
      "<class 'pandas.core.frame.DataFrame'>\n",
      "RangeIndex: 1451 entries, 0 to 1450\n",
      "Data columns (total 6 columns):\n",
      " #   Column     Non-Null Count  Dtype  \n",
      "---  ------     --------------  -----  \n",
      " 0   Apartment  1451 non-null   object \n",
      " 1   Rent       1451 non-null   float64\n",
      " 2   Address    1451 non-null   object \n",
      " 3   URL        1451 non-null   object \n",
      " 4   Rooms      1451 non-null   int64  \n",
      " 5   Area(m²)   1451 non-null   int64  \n",
      "dtypes: float64(1), int64(2), object(3)\n",
      "memory usage: 68.1+ KB\n"
     ]
    }
   ],
   "source": [
    "df_bolig.info()"
   ]
  },
  {
   "cell_type": "markdown",
   "id": "bca64a78",
   "metadata": {},
   "source": [
    "# Duplicated Apartment Deleted\n",
    "\n",
    "- There are promoted apartments which were on every page because these were highly advertised\n",
    "- Found and deleted those apartment to make dataframe unique"
   ]
  },
  {
   "cell_type": "code",
   "execution_count": 70,
   "id": "500d53d5",
   "metadata": {},
   "outputs": [
    {
     "data": {
      "text/plain": [
       "469"
      ]
     },
     "execution_count": 70,
     "metadata": {},
     "output_type": "execute_result"
    }
   ],
   "source": [
    "df_bolig.duplicated().sum()"
   ]
  },
  {
   "cell_type": "code",
   "execution_count": 66,
   "id": "327a3655",
   "metadata": {},
   "outputs": [],
   "source": [
    "dup=df_bolig[df_bolig.duplicated()]"
   ]
  },
  {
   "cell_type": "code",
   "execution_count": 68,
   "id": "dfeb872d",
   "metadata": {},
   "outputs": [
    {
     "data": {
      "text/html": [
       "<div>\n",
       "<style scoped>\n",
       "    .dataframe tbody tr th:only-of-type {\n",
       "        vertical-align: middle;\n",
       "    }\n",
       "\n",
       "    .dataframe tbody tr th {\n",
       "        vertical-align: top;\n",
       "    }\n",
       "\n",
       "    .dataframe thead th {\n",
       "        text-align: right;\n",
       "    }\n",
       "</style>\n",
       "<table border=\"1\" class=\"dataframe\">\n",
       "  <thead>\n",
       "    <tr style=\"text-align: right;\">\n",
       "      <th></th>\n",
       "      <th>Apartment</th>\n",
       "      <th>Rent</th>\n",
       "      <th>Address</th>\n",
       "      <th>URL</th>\n",
       "      <th>Rooms</th>\n",
       "      <th>Area(m²)</th>\n",
       "    </tr>\n",
       "  </thead>\n",
       "  <tbody>\n",
       "    <tr>\n",
       "      <th>42</th>\n",
       "      <td>3 rm. · Apartment · 100 m²</td>\n",
       "      <td>13.995</td>\n",
       "      <td>Rødovre, Nørregårdsbakken</td>\n",
       "      <td>https://www.boligportal.dk/lejligheder/r%C3%B8...</td>\n",
       "      <td>3</td>\n",
       "      <td>100</td>\n",
       "    </tr>\n",
       "    <tr>\n",
       "      <th>43</th>\n",
       "      <td>4 rm. · Apartment · 111 m²</td>\n",
       "      <td>18.215</td>\n",
       "      <td>Hellerup, C V E Knuths Vej</td>\n",
       "      <td>https://www.boligportal.dk/lejligheder/helleru...</td>\n",
       "      <td>4</td>\n",
       "      <td>111</td>\n",
       "    </tr>\n",
       "    <tr>\n",
       "      <th>44</th>\n",
       "      <td>3 rm. · Apartment · 96 m²</td>\n",
       "      <td>13.700</td>\n",
       "      <td>Brønshøj, Præstegårds Allé</td>\n",
       "      <td>https://www.boligportal.dk/lejligheder/br%C3%B...</td>\n",
       "      <td>3</td>\n",
       "      <td>96</td>\n",
       "    </tr>\n",
       "    <tr>\n",
       "      <th>45</th>\n",
       "      <td>4 rm. · Apartment · 149 m²</td>\n",
       "      <td>34.000</td>\n",
       "      <td>Hellerup, Tuborg Bakkedrag</td>\n",
       "      <td>https://www.boligportal.dk/lejligheder/helleru...</td>\n",
       "      <td>4</td>\n",
       "      <td>149</td>\n",
       "    </tr>\n",
       "    <tr>\n",
       "      <th>46</th>\n",
       "      <td>4 rm. · Apartment · 115 m²</td>\n",
       "      <td>15.875</td>\n",
       "      <td>Søborg, Søborg Hovegade</td>\n",
       "      <td>https://www.boligportal.dk/lejligheder/s%C3%B8...</td>\n",
       "      <td>4</td>\n",
       "      <td>115</td>\n",
       "    </tr>\n",
       "    <tr>\n",
       "      <th>47</th>\n",
       "      <td>4 rm. · Apartment · 138 m²</td>\n",
       "      <td>19.296</td>\n",
       "      <td>Hellerup, C V E Knuths Vej</td>\n",
       "      <td>https://www.boligportal.dk/lejligheder/helleru...</td>\n",
       "      <td>4</td>\n",
       "      <td>138</td>\n",
       "    </tr>\n",
       "    <tr>\n",
       "      <th>66</th>\n",
       "      <td>3 rm. · Apartment · 100 m²</td>\n",
       "      <td>13.995</td>\n",
       "      <td>Rødovre, Nørregårdsbakken</td>\n",
       "      <td>https://www.boligportal.dk/lejligheder/r%C3%B8...</td>\n",
       "      <td>3</td>\n",
       "      <td>100</td>\n",
       "    </tr>\n",
       "    <tr>\n",
       "      <th>67</th>\n",
       "      <td>4 rm. · Apartment · 111 m²</td>\n",
       "      <td>18.215</td>\n",
       "      <td>Hellerup, C V E Knuths Vej</td>\n",
       "      <td>https://www.boligportal.dk/lejligheder/helleru...</td>\n",
       "      <td>4</td>\n",
       "      <td>111</td>\n",
       "    </tr>\n",
       "    <tr>\n",
       "      <th>68</th>\n",
       "      <td>3 rm. · Apartment · 96 m²</td>\n",
       "      <td>13.700</td>\n",
       "      <td>Brønshøj, Præstegårds Allé</td>\n",
       "      <td>https://www.boligportal.dk/lejligheder/br%C3%B...</td>\n",
       "      <td>3</td>\n",
       "      <td>96</td>\n",
       "    </tr>\n",
       "    <tr>\n",
       "      <th>69</th>\n",
       "      <td>4 rm. · Apartment · 149 m²</td>\n",
       "      <td>34.000</td>\n",
       "      <td>Hellerup, Tuborg Bakkedrag</td>\n",
       "      <td>https://www.boligportal.dk/lejligheder/helleru...</td>\n",
       "      <td>4</td>\n",
       "      <td>149</td>\n",
       "    </tr>\n",
       "  </tbody>\n",
       "</table>\n",
       "</div>"
      ],
      "text/plain": [
       "                     Apartment    Rent                     Address  \\\n",
       "42  3 rm. · Apartment · 100 m²  13.995   Rødovre, Nørregårdsbakken   \n",
       "43  4 rm. · Apartment · 111 m²  18.215  Hellerup, C V E Knuths Vej   \n",
       "44   3 rm. · Apartment · 96 m²  13.700  Brønshøj, Præstegårds Allé   \n",
       "45  4 rm. · Apartment · 149 m²  34.000  Hellerup, Tuborg Bakkedrag   \n",
       "46  4 rm. · Apartment · 115 m²  15.875     Søborg, Søborg Hovegade   \n",
       "47  4 rm. · Apartment · 138 m²  19.296  Hellerup, C V E Knuths Vej   \n",
       "66  3 rm. · Apartment · 100 m²  13.995   Rødovre, Nørregårdsbakken   \n",
       "67  4 rm. · Apartment · 111 m²  18.215  Hellerup, C V E Knuths Vej   \n",
       "68   3 rm. · Apartment · 96 m²  13.700  Brønshøj, Præstegårds Allé   \n",
       "69  4 rm. · Apartment · 149 m²  34.000  Hellerup, Tuborg Bakkedrag   \n",
       "\n",
       "                                                  URL Rooms Area(m²)  \n",
       "42  https://www.boligportal.dk/lejligheder/r%C3%B8...     3      100  \n",
       "43  https://www.boligportal.dk/lejligheder/helleru...     4      111  \n",
       "44  https://www.boligportal.dk/lejligheder/br%C3%B...     3       96  \n",
       "45  https://www.boligportal.dk/lejligheder/helleru...     4      149  \n",
       "46  https://www.boligportal.dk/lejligheder/s%C3%B8...     4      115  \n",
       "47  https://www.boligportal.dk/lejligheder/helleru...     4      138  \n",
       "66  https://www.boligportal.dk/lejligheder/r%C3%B8...     3      100  \n",
       "67  https://www.boligportal.dk/lejligheder/helleru...     4      111  \n",
       "68  https://www.boligportal.dk/lejligheder/br%C3%B...     3       96  \n",
       "69  https://www.boligportal.dk/lejligheder/helleru...     4      149  "
      ]
     },
     "execution_count": 68,
     "metadata": {},
     "output_type": "execute_result"
    }
   ],
   "source": [
    "dup.head(10)"
   ]
  },
  {
   "cell_type": "markdown",
   "id": "ac0b5772",
   "metadata": {},
   "source": [
    "## Duplicated Apartments Displayed"
   ]
  },
  {
   "cell_type": "code",
   "execution_count": 71,
   "id": "aa4cf829",
   "metadata": {},
   "outputs": [],
   "source": [
    "df_bolig.drop_duplicates(inplace= True)"
   ]
  },
  {
   "cell_type": "code",
   "execution_count": 80,
   "id": "6e2f0357",
   "metadata": {},
   "outputs": [
    {
     "data": {
      "text/html": [
       "<div>\n",
       "<style scoped>\n",
       "    .dataframe tbody tr th:only-of-type {\n",
       "        vertical-align: middle;\n",
       "    }\n",
       "\n",
       "    .dataframe tbody tr th {\n",
       "        vertical-align: top;\n",
       "    }\n",
       "\n",
       "    .dataframe thead th {\n",
       "        text-align: right;\n",
       "    }\n",
       "</style>\n",
       "<table border=\"1\" class=\"dataframe\">\n",
       "  <thead>\n",
       "    <tr style=\"text-align: right;\">\n",
       "      <th></th>\n",
       "      <th>Apartment</th>\n",
       "      <th>Rent</th>\n",
       "      <th>Address</th>\n",
       "      <th>URL</th>\n",
       "      <th>Rooms</th>\n",
       "      <th>Area(m²)</th>\n",
       "    </tr>\n",
       "  </thead>\n",
       "  <tbody>\n",
       "    <tr>\n",
       "      <th>37</th>\n",
       "      <td>4 rm. · Apartment · 135 m²</td>\n",
       "      <td>17.106</td>\n",
       "      <td>København, Nørregade</td>\n",
       "      <td>https://www.boligportal.dk/en/rental-apartment...</td>\n",
       "      <td>4</td>\n",
       "      <td>135</td>\n",
       "    </tr>\n",
       "    <tr>\n",
       "      <th>38</th>\n",
       "      <td>3 rm. · Apartment · 86 m²</td>\n",
       "      <td>13.600</td>\n",
       "      <td>København, A.D. Jørgensens Vej</td>\n",
       "      <td>https://www.boligportal.dk/en/rental-apartment...</td>\n",
       "      <td>3</td>\n",
       "      <td>86</td>\n",
       "    </tr>\n",
       "    <tr>\n",
       "      <th>39</th>\n",
       "      <td>2 rm. · Apartment · 42 m²</td>\n",
       "      <td>10.750</td>\n",
       "      <td>København, Kapselgade</td>\n",
       "      <td>https://www.boligportal.dk/en/rental-apartment...</td>\n",
       "      <td>2</td>\n",
       "      <td>42</td>\n",
       "    </tr>\n",
       "    <tr>\n",
       "      <th>40</th>\n",
       "      <td>4 rm. · Apartment · 115 m²</td>\n",
       "      <td>14.700</td>\n",
       "      <td>København, Ørestads Boulevard</td>\n",
       "      <td>https://www.boligportal.dk/en/rental-apartment...</td>\n",
       "      <td>4</td>\n",
       "      <td>115</td>\n",
       "    </tr>\n",
       "    <tr>\n",
       "      <th>41</th>\n",
       "      <td>4 rm. · Apartment · 102 m²</td>\n",
       "      <td>15.495</td>\n",
       "      <td>København, Teglholmsgade</td>\n",
       "      <td>https://www.boligportal.dk/en/rental-apartment...</td>\n",
       "      <td>4</td>\n",
       "      <td>102</td>\n",
       "    </tr>\n",
       "    <tr>\n",
       "      <th>48</th>\n",
       "      <td>2 rm. · Apartment · 82 m²</td>\n",
       "      <td>12.995</td>\n",
       "      <td>København, Teglholmsgade</td>\n",
       "      <td>https://www.boligportal.dk/en/rental-apartment...</td>\n",
       "      <td>2</td>\n",
       "      <td>82</td>\n",
       "    </tr>\n",
       "    <tr>\n",
       "      <th>49</th>\n",
       "      <td>5 rm. · Apartment · 127 m²</td>\n",
       "      <td>25.000</td>\n",
       "      <td>København, Vardegade</td>\n",
       "      <td>https://www.boligportal.dk/en/rental-apartment...</td>\n",
       "      <td>5</td>\n",
       "      <td>127</td>\n",
       "    </tr>\n",
       "    <tr>\n",
       "      <th>50</th>\n",
       "      <td>1 rm. · Apartment · 37 m²</td>\n",
       "      <td>8.300</td>\n",
       "      <td>København, Bavnehøj Allé</td>\n",
       "      <td>https://www.boligportal.dk/en/rental-apartment...</td>\n",
       "      <td>1</td>\n",
       "      <td>37</td>\n",
       "    </tr>\n",
       "    <tr>\n",
       "      <th>51</th>\n",
       "      <td>2 rm. · Apartment · 68 m²</td>\n",
       "      <td>13.500</td>\n",
       "      <td>København, Amerika Plads</td>\n",
       "      <td>https://www.boligportal.dk/en/rental-apartment...</td>\n",
       "      <td>2</td>\n",
       "      <td>68</td>\n",
       "    </tr>\n",
       "    <tr>\n",
       "      <th>52</th>\n",
       "      <td>3 rm. · Apartment · 79 m²</td>\n",
       "      <td>14.200</td>\n",
       "      <td>København, Utterslevvej</td>\n",
       "      <td>https://www.boligportal.dk/en/rental-apartment...</td>\n",
       "      <td>3</td>\n",
       "      <td>79</td>\n",
       "    </tr>\n",
       "  </tbody>\n",
       "</table>\n",
       "</div>"
      ],
      "text/plain": [
       "                     Apartment    Rent                         Address  \\\n",
       "37  4 rm. · Apartment · 135 m²  17.106            København, Nørregade   \n",
       "38   3 rm. · Apartment · 86 m²  13.600  København, A.D. Jørgensens Vej   \n",
       "39   2 rm. · Apartment · 42 m²  10.750           København, Kapselgade   \n",
       "40  4 rm. · Apartment · 115 m²  14.700   København, Ørestads Boulevard   \n",
       "41  4 rm. · Apartment · 102 m²  15.495        København, Teglholmsgade   \n",
       "48   2 rm. · Apartment · 82 m²  12.995        København, Teglholmsgade   \n",
       "49  5 rm. · Apartment · 127 m²  25.000            København, Vardegade   \n",
       "50   1 rm. · Apartment · 37 m²   8.300        København, Bavnehøj Allé   \n",
       "51   2 rm. · Apartment · 68 m²  13.500        København, Amerika Plads   \n",
       "52   3 rm. · Apartment · 79 m²  14.200         København, Utterslevvej   \n",
       "\n",
       "                                                  URL Rooms Area(m²)  \n",
       "37  https://www.boligportal.dk/en/rental-apartment...     4      135  \n",
       "38  https://www.boligportal.dk/en/rental-apartment...     3       86  \n",
       "39  https://www.boligportal.dk/en/rental-apartment...     2       42  \n",
       "40  https://www.boligportal.dk/en/rental-apartment...     4      115  \n",
       "41  https://www.boligportal.dk/en/rental-apartment...     4      102  \n",
       "48  https://www.boligportal.dk/en/rental-apartment...     2       82  \n",
       "49  https://www.boligportal.dk/en/rental-apartment...     5      127  \n",
       "50  https://www.boligportal.dk/en/rental-apartment...     1       37  \n",
       "51  https://www.boligportal.dk/en/rental-apartment...     2       68  \n",
       "52  https://www.boligportal.dk/en/rental-apartment...     3       79  "
      ]
     },
     "execution_count": 80,
     "metadata": {},
     "output_type": "execute_result"
    }
   ],
   "source": [
    "df_bolig[37:47]"
   ]
  },
  {
   "cell_type": "code",
   "execution_count": 81,
   "id": "d15693f5",
   "metadata": {},
   "outputs": [],
   "source": [
    "df_bolig.reset_index(drop = True, inplace= True)"
   ]
  },
  {
   "cell_type": "code",
   "execution_count": 82,
   "id": "bd4adf99",
   "metadata": {},
   "outputs": [
    {
     "data": {
      "text/html": [
       "<div>\n",
       "<style scoped>\n",
       "    .dataframe tbody tr th:only-of-type {\n",
       "        vertical-align: middle;\n",
       "    }\n",
       "\n",
       "    .dataframe tbody tr th {\n",
       "        vertical-align: top;\n",
       "    }\n",
       "\n",
       "    .dataframe thead th {\n",
       "        text-align: right;\n",
       "    }\n",
       "</style>\n",
       "<table border=\"1\" class=\"dataframe\">\n",
       "  <thead>\n",
       "    <tr style=\"text-align: right;\">\n",
       "      <th></th>\n",
       "      <th>Apartment</th>\n",
       "      <th>Rent</th>\n",
       "      <th>Address</th>\n",
       "      <th>URL</th>\n",
       "      <th>Rooms</th>\n",
       "      <th>Area(m²)</th>\n",
       "    </tr>\n",
       "  </thead>\n",
       "  <tbody>\n",
       "    <tr>\n",
       "      <th>37</th>\n",
       "      <td>4 rm. · Apartment · 135 m²</td>\n",
       "      <td>17.106</td>\n",
       "      <td>København, Nørregade</td>\n",
       "      <td>https://www.boligportal.dk/en/rental-apartment...</td>\n",
       "      <td>4</td>\n",
       "      <td>135</td>\n",
       "    </tr>\n",
       "    <tr>\n",
       "      <th>38</th>\n",
       "      <td>3 rm. · Apartment · 86 m²</td>\n",
       "      <td>13.600</td>\n",
       "      <td>København, A.D. Jørgensens Vej</td>\n",
       "      <td>https://www.boligportal.dk/en/rental-apartment...</td>\n",
       "      <td>3</td>\n",
       "      <td>86</td>\n",
       "    </tr>\n",
       "    <tr>\n",
       "      <th>39</th>\n",
       "      <td>2 rm. · Apartment · 42 m²</td>\n",
       "      <td>10.750</td>\n",
       "      <td>København, Kapselgade</td>\n",
       "      <td>https://www.boligportal.dk/en/rental-apartment...</td>\n",
       "      <td>2</td>\n",
       "      <td>42</td>\n",
       "    </tr>\n",
       "    <tr>\n",
       "      <th>40</th>\n",
       "      <td>4 rm. · Apartment · 115 m²</td>\n",
       "      <td>14.700</td>\n",
       "      <td>København, Ørestads Boulevard</td>\n",
       "      <td>https://www.boligportal.dk/en/rental-apartment...</td>\n",
       "      <td>4</td>\n",
       "      <td>115</td>\n",
       "    </tr>\n",
       "    <tr>\n",
       "      <th>41</th>\n",
       "      <td>4 rm. · Apartment · 102 m²</td>\n",
       "      <td>15.495</td>\n",
       "      <td>København, Teglholmsgade</td>\n",
       "      <td>https://www.boligportal.dk/en/rental-apartment...</td>\n",
       "      <td>4</td>\n",
       "      <td>102</td>\n",
       "    </tr>\n",
       "    <tr>\n",
       "      <th>42</th>\n",
       "      <td>2 rm. · Apartment · 82 m²</td>\n",
       "      <td>12.995</td>\n",
       "      <td>København, Teglholmsgade</td>\n",
       "      <td>https://www.boligportal.dk/en/rental-apartment...</td>\n",
       "      <td>2</td>\n",
       "      <td>82</td>\n",
       "    </tr>\n",
       "    <tr>\n",
       "      <th>43</th>\n",
       "      <td>5 rm. · Apartment · 127 m²</td>\n",
       "      <td>25.000</td>\n",
       "      <td>København, Vardegade</td>\n",
       "      <td>https://www.boligportal.dk/en/rental-apartment...</td>\n",
       "      <td>5</td>\n",
       "      <td>127</td>\n",
       "    </tr>\n",
       "    <tr>\n",
       "      <th>44</th>\n",
       "      <td>1 rm. · Apartment · 37 m²</td>\n",
       "      <td>8.300</td>\n",
       "      <td>København, Bavnehøj Allé</td>\n",
       "      <td>https://www.boligportal.dk/en/rental-apartment...</td>\n",
       "      <td>1</td>\n",
       "      <td>37</td>\n",
       "    </tr>\n",
       "    <tr>\n",
       "      <th>45</th>\n",
       "      <td>2 rm. · Apartment · 68 m²</td>\n",
       "      <td>13.500</td>\n",
       "      <td>København, Amerika Plads</td>\n",
       "      <td>https://www.boligportal.dk/en/rental-apartment...</td>\n",
       "      <td>2</td>\n",
       "      <td>68</td>\n",
       "    </tr>\n",
       "    <tr>\n",
       "      <th>46</th>\n",
       "      <td>3 rm. · Apartment · 79 m²</td>\n",
       "      <td>14.200</td>\n",
       "      <td>København, Utterslevvej</td>\n",
       "      <td>https://www.boligportal.dk/en/rental-apartment...</td>\n",
       "      <td>3</td>\n",
       "      <td>79</td>\n",
       "    </tr>\n",
       "  </tbody>\n",
       "</table>\n",
       "</div>"
      ],
      "text/plain": [
       "                     Apartment    Rent                         Address  \\\n",
       "37  4 rm. · Apartment · 135 m²  17.106            København, Nørregade   \n",
       "38   3 rm. · Apartment · 86 m²  13.600  København, A.D. Jørgensens Vej   \n",
       "39   2 rm. · Apartment · 42 m²  10.750           København, Kapselgade   \n",
       "40  4 rm. · Apartment · 115 m²  14.700   København, Ørestads Boulevard   \n",
       "41  4 rm. · Apartment · 102 m²  15.495        København, Teglholmsgade   \n",
       "42   2 rm. · Apartment · 82 m²  12.995        København, Teglholmsgade   \n",
       "43  5 rm. · Apartment · 127 m²  25.000            København, Vardegade   \n",
       "44   1 rm. · Apartment · 37 m²   8.300        København, Bavnehøj Allé   \n",
       "45   2 rm. · Apartment · 68 m²  13.500        København, Amerika Plads   \n",
       "46   3 rm. · Apartment · 79 m²  14.200         København, Utterslevvej   \n",
       "\n",
       "                                                  URL Rooms Area(m²)  \n",
       "37  https://www.boligportal.dk/en/rental-apartment...     4      135  \n",
       "38  https://www.boligportal.dk/en/rental-apartment...     3       86  \n",
       "39  https://www.boligportal.dk/en/rental-apartment...     2       42  \n",
       "40  https://www.boligportal.dk/en/rental-apartment...     4      115  \n",
       "41  https://www.boligportal.dk/en/rental-apartment...     4      102  \n",
       "42  https://www.boligportal.dk/en/rental-apartment...     2       82  \n",
       "43  https://www.boligportal.dk/en/rental-apartment...     5      127  \n",
       "44  https://www.boligportal.dk/en/rental-apartment...     1       37  \n",
       "45  https://www.boligportal.dk/en/rental-apartment...     2       68  \n",
       "46  https://www.boligportal.dk/en/rental-apartment...     3       79  "
      ]
     },
     "execution_count": 82,
     "metadata": {},
     "output_type": "execute_result"
    }
   ],
   "source": [
    "df_bolig[37:47]"
   ]
  },
  {
   "cell_type": "markdown",
   "id": "a22fa542",
   "metadata": {},
   "source": [
    "# CSV file of Dataframe Created "
   ]
  },
  {
   "cell_type": "code",
   "execution_count": 84,
   "id": "1c5c445d",
   "metadata": {},
   "outputs": [],
   "source": [
    "df_bolig.to_csv('Bolig_Portal.csv')"
   ]
  },
  {
   "cell_type": "markdown",
   "id": "3c569821",
   "metadata": {},
   "source": [
    "# Extract Room1 Apartments"
   ]
  },
  {
   "cell_type": "code",
   "execution_count": 99,
   "id": "74315bd3",
   "metadata": {},
   "outputs": [],
   "source": [
    "Room1=df_bolig.loc[df_bolig['Rooms'] == 1]"
   ]
  },
  {
   "cell_type": "code",
   "execution_count": 100,
   "id": "ca4c4668",
   "metadata": {},
   "outputs": [
    {
     "data": {
      "text/html": [
       "<div>\n",
       "<style scoped>\n",
       "    .dataframe tbody tr th:only-of-type {\n",
       "        vertical-align: middle;\n",
       "    }\n",
       "\n",
       "    .dataframe tbody tr th {\n",
       "        vertical-align: top;\n",
       "    }\n",
       "\n",
       "    .dataframe thead th {\n",
       "        text-align: right;\n",
       "    }\n",
       "</style>\n",
       "<table border=\"1\" class=\"dataframe\">\n",
       "  <thead>\n",
       "    <tr style=\"text-align: right;\">\n",
       "      <th></th>\n",
       "      <th>Apartment</th>\n",
       "      <th>Rent</th>\n",
       "      <th>Address</th>\n",
       "      <th>URL</th>\n",
       "      <th>Rooms</th>\n",
       "      <th>Area(m²)</th>\n",
       "    </tr>\n",
       "  </thead>\n",
       "  <tbody>\n",
       "    <tr>\n",
       "      <th>4</th>\n",
       "      <td>1 rm. · Room · 9 m²</td>\n",
       "      <td>3.500</td>\n",
       "      <td>København, Charlotte Muncks Vej</td>\n",
       "      <td>https://www.boligportal.dk/en/rental-rooms/k%C...</td>\n",
       "      <td>1</td>\n",
       "      <td>9</td>\n",
       "    </tr>\n",
       "    <tr>\n",
       "      <th>8</th>\n",
       "      <td>1 rm. · Apartment · 32 m²</td>\n",
       "      <td>6.950</td>\n",
       "      <td>København, Lindgreens Allé</td>\n",
       "      <td>https://www.boligportal.dk/en/rental-apartment...</td>\n",
       "      <td>1</td>\n",
       "      <td>32</td>\n",
       "    </tr>\n",
       "    <tr>\n",
       "      <th>15</th>\n",
       "      <td>1 rm. · Room · 12 m²</td>\n",
       "      <td>5.253</td>\n",
       "      <td>København, Robert Jacobsens Vej</td>\n",
       "      <td>https://www.boligportal.dk/en/rental-rooms/k%C...</td>\n",
       "      <td>1</td>\n",
       "      <td>12</td>\n",
       "    </tr>\n",
       "    <tr>\n",
       "      <th>44</th>\n",
       "      <td>1 rm. · Apartment · 37 m²</td>\n",
       "      <td>8.300</td>\n",
       "      <td>København, Bavnehøj Allé</td>\n",
       "      <td>https://www.boligportal.dk/en/rental-apartment...</td>\n",
       "      <td>1</td>\n",
       "      <td>37</td>\n",
       "    </tr>\n",
       "    <tr>\n",
       "      <th>49</th>\n",
       "      <td>1 rm. · Room · 14 m²</td>\n",
       "      <td>6.900</td>\n",
       "      <td>København, Ved Stranden</td>\n",
       "      <td>https://www.boligportal.dk/en/rental-rooms/k%C...</td>\n",
       "      <td>1</td>\n",
       "      <td>14</td>\n",
       "    </tr>\n",
       "    <tr>\n",
       "      <th>...</th>\n",
       "      <td>...</td>\n",
       "      <td>...</td>\n",
       "      <td>...</td>\n",
       "      <td>...</td>\n",
       "      <td>...</td>\n",
       "      <td>...</td>\n",
       "    </tr>\n",
       "    <tr>\n",
       "      <th>1442</th>\n",
       "      <td>1 rm. · Room · 24 m²</td>\n",
       "      <td>5.999</td>\n",
       "      <td>København, Carl Th. Dreyers Vej</td>\n",
       "      <td>https://www.boligportal.dk/en/rental-rooms/k%C...</td>\n",
       "      <td>1</td>\n",
       "      <td>24</td>\n",
       "    </tr>\n",
       "    <tr>\n",
       "      <th>1443</th>\n",
       "      <td>1 rm. · Room · 8 m²</td>\n",
       "      <td>6.500</td>\n",
       "      <td>København, Dieselvej</td>\n",
       "      <td>https://www.boligportal.dk/en/rental-rooms/k%C...</td>\n",
       "      <td>1</td>\n",
       "      <td>8</td>\n",
       "    </tr>\n",
       "    <tr>\n",
       "      <th>1446</th>\n",
       "      <td>1 rm. · Room · 14 m²</td>\n",
       "      <td>4.500</td>\n",
       "      <td>København, Nørrebrogade</td>\n",
       "      <td>https://www.boligportal.dk/en/rental-rooms/k%C...</td>\n",
       "      <td>1</td>\n",
       "      <td>14</td>\n",
       "    </tr>\n",
       "    <tr>\n",
       "      <th>1448</th>\n",
       "      <td>1 rm. · Room · 10 m²</td>\n",
       "      <td>5.765</td>\n",
       "      <td>København, Pladehals Allé</td>\n",
       "      <td>https://www.boligportal.dk/en/rental-rooms/k%C...</td>\n",
       "      <td>1</td>\n",
       "      <td>10</td>\n",
       "    </tr>\n",
       "    <tr>\n",
       "      <th>1450</th>\n",
       "      <td>1 rm. · Room · 12 m²</td>\n",
       "      <td>6.500</td>\n",
       "      <td>København, Amagerbrogade</td>\n",
       "      <td>https://www.boligportal.dk/en/rental-rooms/k%C...</td>\n",
       "      <td>1</td>\n",
       "      <td>12</td>\n",
       "    </tr>\n",
       "  </tbody>\n",
       "</table>\n",
       "<p>461 rows × 6 columns</p>\n",
       "</div>"
      ],
      "text/plain": [
       "                      Apartment   Rent                          Address  \\\n",
       "4           1 rm. · Room · 9 m²  3.500  København, Charlotte Muncks Vej   \n",
       "8     1 rm. · Apartment · 32 m²  6.950       København, Lindgreens Allé   \n",
       "15         1 rm. · Room · 12 m²  5.253  København, Robert Jacobsens Vej   \n",
       "44    1 rm. · Apartment · 37 m²  8.300         København, Bavnehøj Allé   \n",
       "49         1 rm. · Room · 14 m²  6.900          København, Ved Stranden   \n",
       "...                         ...    ...                              ...   \n",
       "1442       1 rm. · Room · 24 m²  5.999  København, Carl Th. Dreyers Vej   \n",
       "1443        1 rm. · Room · 8 m²  6.500             København, Dieselvej   \n",
       "1446       1 rm. · Room · 14 m²  4.500          København, Nørrebrogade   \n",
       "1448       1 rm. · Room · 10 m²  5.765        København, Pladehals Allé   \n",
       "1450       1 rm. · Room · 12 m²  6.500         København, Amagerbrogade   \n",
       "\n",
       "                                                    URL  Rooms  Area(m²)  \n",
       "4     https://www.boligportal.dk/en/rental-rooms/k%C...      1         9  \n",
       "8     https://www.boligportal.dk/en/rental-apartment...      1        32  \n",
       "15    https://www.boligportal.dk/en/rental-rooms/k%C...      1        12  \n",
       "44    https://www.boligportal.dk/en/rental-apartment...      1        37  \n",
       "49    https://www.boligportal.dk/en/rental-rooms/k%C...      1        14  \n",
       "...                                                 ...    ...       ...  \n",
       "1442  https://www.boligportal.dk/en/rental-rooms/k%C...      1        24  \n",
       "1443  https://www.boligportal.dk/en/rental-rooms/k%C...      1         8  \n",
       "1446  https://www.boligportal.dk/en/rental-rooms/k%C...      1        14  \n",
       "1448  https://www.boligportal.dk/en/rental-rooms/k%C...      1        10  \n",
       "1450  https://www.boligportal.dk/en/rental-rooms/k%C...      1        12  \n",
       "\n",
       "[461 rows x 6 columns]"
      ]
     },
     "execution_count": 100,
     "metadata": {},
     "output_type": "execute_result"
    }
   ],
   "source": [
    "Room1"
   ]
  },
  {
   "cell_type": "markdown",
   "id": "8c9e0e8a",
   "metadata": {},
   "source": [
    "# Longitude and Langitude\n",
    "\n",
    "- Found longitude and latitude to measure the distance from the Copenhagen Central Station"
   ]
  },
  {
   "cell_type": "code",
   "execution_count": 258,
   "id": "dd108447",
   "metadata": {},
   "outputs": [],
   "source": [
    "y=df_bolig[\"Address\"]"
   ]
  },
  {
   "cell_type": "code",
   "execution_count": 192,
   "id": "087f240b",
   "metadata": {},
   "outputs": [],
   "source": [
    "def addr_long(x):\n",
    "    from geopy.geocoders import ArcGIS\n",
    "    lat_ = []\n",
    "    long_ = []\n",
    "    points = []\n",
    "    for i in x:\n",
    "        loc = ArcGIS()\n",
    "        addr = loc.geocode(i, timeout=None)\n",
    "        if addr is None:\n",
    "            lat_.append(None)\n",
    "            long_.append(None)\n",
    "        else:\n",
    "            longitude = addr.longitude\n",
    "            latitude = addr.latitude\n",
    "            points.append((latitude, longitude))\n",
    "    return points"
   ]
  },
  {
   "cell_type": "markdown",
   "id": "6a2ebb8f",
   "metadata": {},
   "source": [
    "## Copenhagen Central Station Latitude, Longitude"
   ]
  },
  {
   "cell_type": "code",
   "execution_count": 120,
   "id": "c77f764d",
   "metadata": {},
   "outputs": [
    {
     "data": {
      "text/plain": [
       "[(55.67439305996968, 12.564873126715405)]"
      ]
     },
     "execution_count": 120,
     "metadata": {},
     "output_type": "execute_result"
    }
   ],
   "source": [
    "addr_long([\"København, Bernstoffgade 1\"])"
   ]
  },
  {
   "cell_type": "code",
   "execution_count": 232,
   "id": "dbc93663",
   "metadata": {},
   "outputs": [],
   "source": [
    "abc=[(55.67439305996968, 12.564873126715405)]*1451"
   ]
  },
  {
   "cell_type": "code",
   "execution_count": 233,
   "id": "757eb43c",
   "metadata": {},
   "outputs": [
    {
     "data": {
      "text/plain": [
       "1451"
      ]
     },
     "execution_count": 233,
     "metadata": {},
     "output_type": "execute_result"
    }
   ],
   "source": [
    "len(abc)"
   ]
  },
  {
   "cell_type": "code",
   "execution_count": null,
   "id": "ed19de58",
   "metadata": {},
   "outputs": [],
   "source": []
  },
  {
   "cell_type": "markdown",
   "id": "23c23019",
   "metadata": {},
   "source": [
    "## Calculated the Latitude, Longitude of all Apartments"
   ]
  },
  {
   "cell_type": "code",
   "execution_count": null,
   "id": "35b06fbc",
   "metadata": {},
   "outputs": [],
   "source": [
    "Add_Lat_Lon = [] \n",
    "for i in y[0:len(y)]:\n",
    "    x = addr_long([i])\n",
    "    Add_Lat_Lon.append(x)"
   ]
  },
  {
   "cell_type": "code",
   "execution_count": 136,
   "id": "8ce9b4c6",
   "metadata": {},
   "outputs": [],
   "source": [
    "Add_Lat_Lon = list(chain(*Add_Lat_Lon))"
   ]
  },
  {
   "cell_type": "markdown",
   "id": "c1dee2c2",
   "metadata": {},
   "source": [
    "## New Column Added for Latitude, Longitude"
   ]
  },
  {
   "cell_type": "code",
   "execution_count": 236,
   "id": "c7c184d6",
   "metadata": {},
   "outputs": [],
   "source": [
    "df_bolig[\"Add_Lat_Lon\"] = Add_Lat_Lon"
   ]
  },
  {
   "cell_type": "code",
   "execution_count": null,
   "id": "ea1c9090",
   "metadata": {},
   "outputs": [],
   "source": [
    "df_bolig[\"CPH_Lat_Lon\"] = abc"
   ]
  },
  {
   "cell_type": "code",
   "execution_count": 237,
   "id": "2d581423",
   "metadata": {},
   "outputs": [
    {
     "data": {
      "text/html": [
       "<div>\n",
       "<style scoped>\n",
       "    .dataframe tbody tr th:only-of-type {\n",
       "        vertical-align: middle;\n",
       "    }\n",
       "\n",
       "    .dataframe tbody tr th {\n",
       "        vertical-align: top;\n",
       "    }\n",
       "\n",
       "    .dataframe thead th {\n",
       "        text-align: right;\n",
       "    }\n",
       "</style>\n",
       "<table border=\"1\" class=\"dataframe\">\n",
       "  <thead>\n",
       "    <tr style=\"text-align: right;\">\n",
       "      <th></th>\n",
       "      <th>Apartment</th>\n",
       "      <th>Rent</th>\n",
       "      <th>Address</th>\n",
       "      <th>URL</th>\n",
       "      <th>Rooms</th>\n",
       "      <th>Area(m²)</th>\n",
       "      <th>CPH_Lat_Lon</th>\n",
       "      <th>Add_Lat_Lon</th>\n",
       "    </tr>\n",
       "  </thead>\n",
       "  <tbody>\n",
       "    <tr>\n",
       "      <th>0</th>\n",
       "      <td>2 rm. · Apartment · 60 m²</td>\n",
       "      <td>8.700</td>\n",
       "      <td>København, Vigerslevvej</td>\n",
       "      <td>https://www.boligportal.dk/en/rental-apartment...</td>\n",
       "      <td>2</td>\n",
       "      <td>60</td>\n",
       "      <td>(55.67439305996968, 12.564873126715405)</td>\n",
       "      <td>(55.657086753224576, 12.485280377686337)</td>\n",
       "    </tr>\n",
       "    <tr>\n",
       "      <th>1</th>\n",
       "      <td>3 rm. · Apartment · 102 m²</td>\n",
       "      <td>16.500</td>\n",
       "      <td>København, Hans Hedtofts Gade</td>\n",
       "      <td>https://www.boligportal.dk/en/rental-apartment...</td>\n",
       "      <td>3</td>\n",
       "      <td>102</td>\n",
       "      <td>(55.67439305996968, 12.564873126715405)</td>\n",
       "      <td>(55.66296135575674, 12.573964013115852)</td>\n",
       "    </tr>\n",
       "    <tr>\n",
       "      <th>2</th>\n",
       "      <td>2 rm. · Apartment · 60 m²</td>\n",
       "      <td>8.429</td>\n",
       "      <td>København, Romsdalsgade</td>\n",
       "      <td>https://www.boligportal.dk/en/rental-apartment...</td>\n",
       "      <td>2</td>\n",
       "      <td>60</td>\n",
       "      <td>(55.67439305996968, 12.564873126715405)</td>\n",
       "      <td>(55.6595067245476, 12.602015356442074)</td>\n",
       "    </tr>\n",
       "  </tbody>\n",
       "</table>\n",
       "</div>"
      ],
      "text/plain": [
       "                    Apartment    Rent                        Address  \\\n",
       "0   2 rm. · Apartment · 60 m²   8.700        København, Vigerslevvej   \n",
       "1  3 rm. · Apartment · 102 m²  16.500  København, Hans Hedtofts Gade   \n",
       "2   2 rm. · Apartment · 60 m²   8.429        København, Romsdalsgade   \n",
       "\n",
       "                                                 URL  Rooms  Area(m²)  \\\n",
       "0  https://www.boligportal.dk/en/rental-apartment...      2        60   \n",
       "1  https://www.boligportal.dk/en/rental-apartment...      3       102   \n",
       "2  https://www.boligportal.dk/en/rental-apartment...      2        60   \n",
       "\n",
       "                               CPH_Lat_Lon  \\\n",
       "0  (55.67439305996968, 12.564873126715405)   \n",
       "1  (55.67439305996968, 12.564873126715405)   \n",
       "2  (55.67439305996968, 12.564873126715405)   \n",
       "\n",
       "                                Add_Lat_Lon  \n",
       "0  (55.657086753224576, 12.485280377686337)  \n",
       "1   (55.66296135575674, 12.573964013115852)  \n",
       "2    (55.6595067245476, 12.602015356442074)  "
      ]
     },
     "execution_count": 237,
     "metadata": {},
     "output_type": "execute_result"
    }
   ],
   "source": [
    "df_bolig.head(3)"
   ]
  },
  {
   "cell_type": "code",
   "execution_count": 259,
   "id": "17b17df6",
   "metadata": {},
   "outputs": [
    {
     "name": "stdout",
     "output_type": "stream",
     "text": [
      "<class 'pandas.core.frame.DataFrame'>\n",
      "RangeIndex: 1451 entries, 0 to 1450\n",
      "Data columns (total 9 columns):\n",
      " #   Column                  Non-Null Count  Dtype  \n",
      "---  ------                  --------------  -----  \n",
      " 0   Apartment               1451 non-null   object \n",
      " 1   Rent                    1451 non-null   float64\n",
      " 2   Address                 1451 non-null   object \n",
      " 3   URL                     1451 non-null   object \n",
      " 4   Rooms                   1451 non-null   int64  \n",
      " 5   Area(m²)                1451 non-null   int64  \n",
      " 6   Distance_Central_St_km  1451 non-null   float64\n",
      " 7   CPH_Lat_Lon             1451 non-null   object \n",
      " 8   Add_Lat_Lon             1451 non-null   object \n",
      "dtypes: float64(2), int64(2), object(5)\n",
      "memory usage: 102.1+ KB\n"
     ]
    }
   ],
   "source": [
    "df_bolig.info()"
   ]
  },
  {
   "cell_type": "markdown",
   "id": "67f1a953",
   "metadata": {},
   "source": [
    "## Distance Measurement from the CPH Central Station"
   ]
  },
  {
   "cell_type": "code",
   "execution_count": 187,
   "id": "ab8c8298",
   "metadata": {},
   "outputs": [],
   "source": [
    "from geopy.distance import great_circle"
   ]
  },
  {
   "cell_type": "code",
   "execution_count": 238,
   "id": "55e584f5",
   "metadata": {},
   "outputs": [
    {
     "data": {
      "text/plain": [
       "5.349847518546733"
      ]
     },
     "execution_count": 238,
     "metadata": {},
     "output_type": "execute_result"
    }
   ],
   "source": [
    "great_circle(df_bolig['CPH_Lat_Lon'][0], df_bolig['Add_Lat_Lon'][0]).kilometers"
   ]
  },
  {
   "cell_type": "code",
   "execution_count": 239,
   "id": "368c976a",
   "metadata": {},
   "outputs": [],
   "source": [
    "dist=[]\n",
    "for i in range(len(df_bolig)):\n",
    "    dis=great_circle(df_bolig['CPH_Lat_Lon'][i], df_bolig['Add_Lat_Lon'][i]).kilometers\n",
    "    dist.append(dis)"
   ]
  },
  {
   "cell_type": "code",
   "execution_count": 253,
   "id": "bcfa34f8",
   "metadata": {},
   "outputs": [],
   "source": [
    "df_bolig.drop(\"Distance_from_Central_St\", axis=1, inplace=True)"
   ]
  },
  {
   "cell_type": "code",
   "execution_count": 254,
   "id": "1ad57492",
   "metadata": {},
   "outputs": [],
   "source": [
    "df_bolig.insert(6, \"Distance_Central_St_km\", dist)"
   ]
  },
  {
   "cell_type": "code",
   "execution_count": 255,
   "id": "72625edd",
   "metadata": {},
   "outputs": [
    {
     "data": {
      "text/html": [
       "<div>\n",
       "<style scoped>\n",
       "    .dataframe tbody tr th:only-of-type {\n",
       "        vertical-align: middle;\n",
       "    }\n",
       "\n",
       "    .dataframe tbody tr th {\n",
       "        vertical-align: top;\n",
       "    }\n",
       "\n",
       "    .dataframe thead th {\n",
       "        text-align: right;\n",
       "    }\n",
       "</style>\n",
       "<table border=\"1\" class=\"dataframe\">\n",
       "  <thead>\n",
       "    <tr style=\"text-align: right;\">\n",
       "      <th></th>\n",
       "      <th>Apartment</th>\n",
       "      <th>Rent</th>\n",
       "      <th>Address</th>\n",
       "      <th>URL</th>\n",
       "      <th>Rooms</th>\n",
       "      <th>Area(m²)</th>\n",
       "      <th>Distance_Central_St_km</th>\n",
       "      <th>CPH_Lat_Lon</th>\n",
       "      <th>Add_Lat_Lon</th>\n",
       "    </tr>\n",
       "  </thead>\n",
       "  <tbody>\n",
       "    <tr>\n",
       "      <th>0</th>\n",
       "      <td>2 rm. · Apartment · 60 m²</td>\n",
       "      <td>8.700</td>\n",
       "      <td>København, Vigerslevvej</td>\n",
       "      <td>https://www.boligportal.dk/en/rental-apartment...</td>\n",
       "      <td>2</td>\n",
       "      <td>60</td>\n",
       "      <td>5.349848</td>\n",
       "      <td>(55.67439305996968, 12.564873126715405)</td>\n",
       "      <td>(55.657086753224576, 12.485280377686337)</td>\n",
       "    </tr>\n",
       "    <tr>\n",
       "      <th>1</th>\n",
       "      <td>3 rm. · Apartment · 102 m²</td>\n",
       "      <td>16.500</td>\n",
       "      <td>København, Hans Hedtofts Gade</td>\n",
       "      <td>https://www.boligportal.dk/en/rental-apartment...</td>\n",
       "      <td>3</td>\n",
       "      <td>102</td>\n",
       "      <td>1.393140</td>\n",
       "      <td>(55.67439305996968, 12.564873126715405)</td>\n",
       "      <td>(55.66296135575674, 12.573964013115852)</td>\n",
       "    </tr>\n",
       "    <tr>\n",
       "      <th>2</th>\n",
       "      <td>2 rm. · Apartment · 60 m²</td>\n",
       "      <td>8.429</td>\n",
       "      <td>København, Romsdalsgade</td>\n",
       "      <td>https://www.boligportal.dk/en/rental-apartment...</td>\n",
       "      <td>2</td>\n",
       "      <td>60</td>\n",
       "      <td>2.857594</td>\n",
       "      <td>(55.67439305996968, 12.564873126715405)</td>\n",
       "      <td>(55.6595067245476, 12.602015356442074)</td>\n",
       "    </tr>\n",
       "    <tr>\n",
       "      <th>3</th>\n",
       "      <td>3 rm. · Apartment · 88 m²</td>\n",
       "      <td>12.000</td>\n",
       "      <td>København, Guldborgvej</td>\n",
       "      <td>https://www.boligportal.dk/en/rental-apartment...</td>\n",
       "      <td>3</td>\n",
       "      <td>88</td>\n",
       "      <td>2.701299</td>\n",
       "      <td>(55.67439305996968, 12.564873126715405)</td>\n",
       "      <td>(55.68589177924863, 12.526917841605133)</td>\n",
       "    </tr>\n",
       "    <tr>\n",
       "      <th>4</th>\n",
       "      <td>1 rm. · Room · 9 m²</td>\n",
       "      <td>3.500</td>\n",
       "      <td>København, Charlotte Muncks Vej</td>\n",
       "      <td>https://www.boligportal.dk/en/rental-rooms/k%C...</td>\n",
       "      <td>1</td>\n",
       "      <td>9</td>\n",
       "      <td>4.555849</td>\n",
       "      <td>(55.67439305996968, 12.564873126715405)</td>\n",
       "      <td>(55.71243131235872, 12.537862092305762)</td>\n",
       "    </tr>\n",
       "  </tbody>\n",
       "</table>\n",
       "</div>"
      ],
      "text/plain": [
       "                    Apartment    Rent                          Address  \\\n",
       "0   2 rm. · Apartment · 60 m²   8.700          København, Vigerslevvej   \n",
       "1  3 rm. · Apartment · 102 m²  16.500    København, Hans Hedtofts Gade   \n",
       "2   2 rm. · Apartment · 60 m²   8.429          København, Romsdalsgade   \n",
       "3   3 rm. · Apartment · 88 m²  12.000           København, Guldborgvej   \n",
       "4         1 rm. · Room · 9 m²   3.500  København, Charlotte Muncks Vej   \n",
       "\n",
       "                                                 URL  Rooms  Area(m²)  \\\n",
       "0  https://www.boligportal.dk/en/rental-apartment...      2        60   \n",
       "1  https://www.boligportal.dk/en/rental-apartment...      3       102   \n",
       "2  https://www.boligportal.dk/en/rental-apartment...      2        60   \n",
       "3  https://www.boligportal.dk/en/rental-apartment...      3        88   \n",
       "4  https://www.boligportal.dk/en/rental-rooms/k%C...      1         9   \n",
       "\n",
       "   Distance_Central_St_km                              CPH_Lat_Lon  \\\n",
       "0                5.349848  (55.67439305996968, 12.564873126715405)   \n",
       "1                1.393140  (55.67439305996968, 12.564873126715405)   \n",
       "2                2.857594  (55.67439305996968, 12.564873126715405)   \n",
       "3                2.701299  (55.67439305996968, 12.564873126715405)   \n",
       "4                4.555849  (55.67439305996968, 12.564873126715405)   \n",
       "\n",
       "                                Add_Lat_Lon  \n",
       "0  (55.657086753224576, 12.485280377686337)  \n",
       "1   (55.66296135575674, 12.573964013115852)  \n",
       "2    (55.6595067245476, 12.602015356442074)  \n",
       "3   (55.68589177924863, 12.526917841605133)  \n",
       "4   (55.71243131235872, 12.537862092305762)  "
      ]
     },
     "execution_count": 255,
     "metadata": {},
     "output_type": "execute_result"
    }
   ],
   "source": [
    "df_bolig.head()"
   ]
  },
  {
   "cell_type": "markdown",
   "id": "f5e77f00",
   "metadata": {},
   "source": [
    "# 6 Rooms Dataframe Extracted"
   ]
  },
  {
   "cell_type": "code",
   "execution_count": 300,
   "id": "2f5b62a3",
   "metadata": {},
   "outputs": [],
   "source": [
    "Room6=df_bolig.loc[df_bolig['Rooms'] == 6]"
   ]
  },
  {
   "cell_type": "code",
   "execution_count": 301,
   "id": "93430431",
   "metadata": {},
   "outputs": [
    {
     "data": {
      "text/plain": [
       "(15, 9)"
      ]
     },
     "execution_count": 301,
     "metadata": {},
     "output_type": "execute_result"
    }
   ],
   "source": [
    "Room6.shape"
   ]
  },
  {
   "cell_type": "code",
   "execution_count": 302,
   "id": "eae6b37f",
   "metadata": {},
   "outputs": [
    {
     "data": {
      "text/html": [
       "<div>\n",
       "<style scoped>\n",
       "    .dataframe tbody tr th:only-of-type {\n",
       "        vertical-align: middle;\n",
       "    }\n",
       "\n",
       "    .dataframe tbody tr th {\n",
       "        vertical-align: top;\n",
       "    }\n",
       "\n",
       "    .dataframe thead th {\n",
       "        text-align: right;\n",
       "    }\n",
       "</style>\n",
       "<table border=\"1\" class=\"dataframe\">\n",
       "  <thead>\n",
       "    <tr style=\"text-align: right;\">\n",
       "      <th></th>\n",
       "      <th>Apartment</th>\n",
       "      <th>Rent</th>\n",
       "      <th>Address</th>\n",
       "      <th>URL</th>\n",
       "      <th>Rooms</th>\n",
       "      <th>Area(m²)</th>\n",
       "      <th>Distance_Central_St_km</th>\n",
       "      <th>CPH_Lat_Lon</th>\n",
       "      <th>Add_Lat_Lon</th>\n",
       "    </tr>\n",
       "  </thead>\n",
       "  <tbody>\n",
       "    <tr>\n",
       "      <th>30</th>\n",
       "      <td>6 rm. · House · 153 m²</td>\n",
       "      <td>22.000</td>\n",
       "      <td>København, Sæbyholmsvej</td>\n",
       "      <td>https://www.boligportal.dk/en/rental-houses/k%...</td>\n",
       "      <td>6</td>\n",
       "      <td>153</td>\n",
       "      <td>4.603178</td>\n",
       "      <td>(55.67439305996968, 12.564873126715405)</td>\n",
       "      <td>(55.67519799487328, 12.491473106706982)</td>\n",
       "    </tr>\n",
       "    <tr>\n",
       "      <th>96</th>\n",
       "      <td>6 rm. · Apartment · 182 m²</td>\n",
       "      <td>28.800</td>\n",
       "      <td>København, Gammel Kongevej</td>\n",
       "      <td>https://www.boligportal.dk/en/rental-apartment...</td>\n",
       "      <td>6</td>\n",
       "      <td>182</td>\n",
       "      <td>0.650951</td>\n",
       "      <td>(55.67439305996968, 12.564873126715405)</td>\n",
       "      <td>(55.6736054583134, 12.554586012089635)</td>\n",
       "    </tr>\n",
       "    <tr>\n",
       "      <th>102</th>\n",
       "      <td>6 rm. · Apartment · 198 m²</td>\n",
       "      <td>30.000</td>\n",
       "      <td>København, Sortedam Dossering</td>\n",
       "      <td>https://www.boligportal.dk/en/rental-apartment...</td>\n",
       "      <td>6</td>\n",
       "      <td>198</td>\n",
       "      <td>1.449822</td>\n",
       "      <td>(55.67439305996968, 12.564873126715405)</td>\n",
       "      <td>(55.68736816668332, 12.562594562752952)</td>\n",
       "    </tr>\n",
       "    <tr>\n",
       "      <th>118</th>\n",
       "      <td>6 rm. · House · 167 m²</td>\n",
       "      <td>24.000</td>\n",
       "      <td>København, Nakskovvej</td>\n",
       "      <td>https://www.boligportal.dk/en/rental-houses/k%...</td>\n",
       "      <td>6</td>\n",
       "      <td>167</td>\n",
       "      <td>4.867386</td>\n",
       "      <td>(55.67439305996968, 12.564873126715405)</td>\n",
       "      <td>(55.66534622978468, 12.488931049590505)</td>\n",
       "    </tr>\n",
       "    <tr>\n",
       "      <th>165</th>\n",
       "      <td>6 rm. · Apartment · 152 m²</td>\n",
       "      <td>24.000</td>\n",
       "      <td>København, Paludan Müllers Vej</td>\n",
       "      <td>https://www.boligportal.dk/en/rental-apartment...</td>\n",
       "      <td>6</td>\n",
       "      <td>152</td>\n",
       "      <td>1.417539</td>\n",
       "      <td>(55.67439305996968, 12.564873126715405)</td>\n",
       "      <td>(55.67301003539963, 12.542399539464558)</td>\n",
       "    </tr>\n",
       "    <tr>\n",
       "      <th>369</th>\n",
       "      <td>6 rm. · Apartment · 151 m²</td>\n",
       "      <td>19.300</td>\n",
       "      <td>København, Øresundsvej</td>\n",
       "      <td>https://www.boligportal.dk/en/rental-apartment...</td>\n",
       "      <td>6</td>\n",
       "      <td>151</td>\n",
       "      <td>4.379975</td>\n",
       "      <td>(55.67439305996968, 12.564873126715405)</td>\n",
       "      <td>(55.66217752047773, 12.631272276163509)</td>\n",
       "    </tr>\n",
       "    <tr>\n",
       "      <th>370</th>\n",
       "      <td>6 rm. · Apartment · 151 m²</td>\n",
       "      <td>19.500</td>\n",
       "      <td>København, Lergravsvej</td>\n",
       "      <td>https://www.boligportal.dk/en/rental-apartment...</td>\n",
       "      <td>6</td>\n",
       "      <td>151</td>\n",
       "      <td>3.657458</td>\n",
       "      <td>(55.67439305996968, 12.564873126715405)</td>\n",
       "      <td>(55.66308797876275, 12.619642149294114)</td>\n",
       "    </tr>\n",
       "    <tr>\n",
       "      <th>467</th>\n",
       "      <td>6 rm. · Apartment · 193 m²</td>\n",
       "      <td>27.068</td>\n",
       "      <td>København, Sortedam Dossering</td>\n",
       "      <td>https://www.boligportal.dk/en/rental-apartment...</td>\n",
       "      <td>6</td>\n",
       "      <td>193</td>\n",
       "      <td>1.449822</td>\n",
       "      <td>(55.67439305996968, 12.564873126715405)</td>\n",
       "      <td>(55.68736816668332, 12.562594562752952)</td>\n",
       "    </tr>\n",
       "    <tr>\n",
       "      <th>476</th>\n",
       "      <td>6 rm. · Apartment · 170 m²</td>\n",
       "      <td>25.000</td>\n",
       "      <td>København, Nørre Søgade</td>\n",
       "      <td>https://www.boligportal.dk/en/rental-apartment...</td>\n",
       "      <td>6</td>\n",
       "      <td>170</td>\n",
       "      <td>0.991101</td>\n",
       "      <td>(55.67439305996968, 12.564873126715405)</td>\n",
       "      <td>(55.68320205807227, 12.562463281792615)</td>\n",
       "    </tr>\n",
       "    <tr>\n",
       "      <th>537</th>\n",
       "      <td>6 rm. · House · 231 m²</td>\n",
       "      <td>45.000</td>\n",
       "      <td>København, Svanemøllevej</td>\n",
       "      <td>https://www.boligportal.dk/en/rental-houses/k%...</td>\n",
       "      <td>6</td>\n",
       "      <td>231</td>\n",
       "      <td>5.060145</td>\n",
       "      <td>(55.67439305996968, 12.564873126715405)</td>\n",
       "      <td>(55.719527260218584, 12.575186502612288)</td>\n",
       "    </tr>\n",
       "    <tr>\n",
       "      <th>878</th>\n",
       "      <td>6 rm. · Apartment · 171 m²</td>\n",
       "      <td>29.500</td>\n",
       "      <td>København, Frederiksberg Alle</td>\n",
       "      <td>https://www.boligportal.dk/en/rental-apartment...</td>\n",
       "      <td>6</td>\n",
       "      <td>171</td>\n",
       "      <td>0.959127</td>\n",
       "      <td>(55.67439305996968, 12.564873126715405)</td>\n",
       "      <td>(55.672684468194134, 12.549880050378789)</td>\n",
       "    </tr>\n",
       "    <tr>\n",
       "      <th>981</th>\n",
       "      <td>6 rm. · Apartment · 186 m²</td>\n",
       "      <td>35.000</td>\n",
       "      <td>København, Ørestads Boulevard</td>\n",
       "      <td>https://www.boligportal.dk/en/rental-apartment...</td>\n",
       "      <td>6</td>\n",
       "      <td>186</td>\n",
       "      <td>5.952348</td>\n",
       "      <td>(55.67439305996968, 12.564873126715405)</td>\n",
       "      <td>(55.6212264447242, 12.57591827741532)</td>\n",
       "    </tr>\n",
       "    <tr>\n",
       "      <th>997</th>\n",
       "      <td>6 rm. · Apartment · 197 m²</td>\n",
       "      <td>29.800</td>\n",
       "      <td>København, Puggaardsgade</td>\n",
       "      <td>https://www.boligportal.dk/en/rental-apartment...</td>\n",
       "      <td>6</td>\n",
       "      <td>197</td>\n",
       "      <td>0.697096</td>\n",
       "      <td>(55.67439305996968, 12.564873126715405)</td>\n",
       "      <td>(55.67143741654785, 12.5746771737368)</td>\n",
       "    </tr>\n",
       "    <tr>\n",
       "      <th>1054</th>\n",
       "      <td>6 rm. · Townhouse · 210 m²</td>\n",
       "      <td>27.500</td>\n",
       "      <td>København, Fuglebakkevej</td>\n",
       "      <td>https://www.boligportal.dk/en/rental-townhouse...</td>\n",
       "      <td>6</td>\n",
       "      <td>210</td>\n",
       "      <td>3.036892</td>\n",
       "      <td>(55.67439305996968, 12.564873126715405)</td>\n",
       "      <td>(55.69148418759671, 12.527087104627048)</td>\n",
       "    </tr>\n",
       "    <tr>\n",
       "      <th>1272</th>\n",
       "      <td>6 rm. · Apartment · 180 m²</td>\n",
       "      <td>25.000</td>\n",
       "      <td>København, Nikolaj Plads</td>\n",
       "      <td>https://www.boligportal.dk/en/rental-apartment...</td>\n",
       "      <td>6</td>\n",
       "      <td>180</td>\n",
       "      <td>1.159296</td>\n",
       "      <td>(55.67439305996968, 12.564873126715405)</td>\n",
       "      <td>(55.67900000000003, 12.58146000000005)</td>\n",
       "    </tr>\n",
       "  </tbody>\n",
       "</table>\n",
       "</div>"
      ],
      "text/plain": [
       "                       Apartment    Rent                         Address  \\\n",
       "30        6 rm. · House · 153 m²  22.000         København, Sæbyholmsvej   \n",
       "96    6 rm. · Apartment · 182 m²  28.800      København, Gammel Kongevej   \n",
       "102   6 rm. · Apartment · 198 m²  30.000   København, Sortedam Dossering   \n",
       "118       6 rm. · House · 167 m²  24.000           København, Nakskovvej   \n",
       "165   6 rm. · Apartment · 152 m²  24.000  København, Paludan Müllers Vej   \n",
       "369   6 rm. · Apartment · 151 m²  19.300          København, Øresundsvej   \n",
       "370   6 rm. · Apartment · 151 m²  19.500          København, Lergravsvej   \n",
       "467   6 rm. · Apartment · 193 m²  27.068   København, Sortedam Dossering   \n",
       "476   6 rm. · Apartment · 170 m²  25.000         København, Nørre Søgade   \n",
       "537       6 rm. · House · 231 m²  45.000        København, Svanemøllevej   \n",
       "878   6 rm. · Apartment · 171 m²  29.500   København, Frederiksberg Alle   \n",
       "981   6 rm. · Apartment · 186 m²  35.000   København, Ørestads Boulevard   \n",
       "997   6 rm. · Apartment · 197 m²  29.800        København, Puggaardsgade   \n",
       "1054  6 rm. · Townhouse · 210 m²  27.500        København, Fuglebakkevej   \n",
       "1272  6 rm. · Apartment · 180 m²  25.000        København, Nikolaj Plads   \n",
       "\n",
       "                                                    URL  Rooms  Area(m²)  \\\n",
       "30    https://www.boligportal.dk/en/rental-houses/k%...      6       153   \n",
       "96    https://www.boligportal.dk/en/rental-apartment...      6       182   \n",
       "102   https://www.boligportal.dk/en/rental-apartment...      6       198   \n",
       "118   https://www.boligportal.dk/en/rental-houses/k%...      6       167   \n",
       "165   https://www.boligportal.dk/en/rental-apartment...      6       152   \n",
       "369   https://www.boligportal.dk/en/rental-apartment...      6       151   \n",
       "370   https://www.boligportal.dk/en/rental-apartment...      6       151   \n",
       "467   https://www.boligportal.dk/en/rental-apartment...      6       193   \n",
       "476   https://www.boligportal.dk/en/rental-apartment...      6       170   \n",
       "537   https://www.boligportal.dk/en/rental-houses/k%...      6       231   \n",
       "878   https://www.boligportal.dk/en/rental-apartment...      6       171   \n",
       "981   https://www.boligportal.dk/en/rental-apartment...      6       186   \n",
       "997   https://www.boligportal.dk/en/rental-apartment...      6       197   \n",
       "1054  https://www.boligportal.dk/en/rental-townhouse...      6       210   \n",
       "1272  https://www.boligportal.dk/en/rental-apartment...      6       180   \n",
       "\n",
       "      Distance_Central_St_km                              CPH_Lat_Lon  \\\n",
       "30                  4.603178  (55.67439305996968, 12.564873126715405)   \n",
       "96                  0.650951  (55.67439305996968, 12.564873126715405)   \n",
       "102                 1.449822  (55.67439305996968, 12.564873126715405)   \n",
       "118                 4.867386  (55.67439305996968, 12.564873126715405)   \n",
       "165                 1.417539  (55.67439305996968, 12.564873126715405)   \n",
       "369                 4.379975  (55.67439305996968, 12.564873126715405)   \n",
       "370                 3.657458  (55.67439305996968, 12.564873126715405)   \n",
       "467                 1.449822  (55.67439305996968, 12.564873126715405)   \n",
       "476                 0.991101  (55.67439305996968, 12.564873126715405)   \n",
       "537                 5.060145  (55.67439305996968, 12.564873126715405)   \n",
       "878                 0.959127  (55.67439305996968, 12.564873126715405)   \n",
       "981                 5.952348  (55.67439305996968, 12.564873126715405)   \n",
       "997                 0.697096  (55.67439305996968, 12.564873126715405)   \n",
       "1054                3.036892  (55.67439305996968, 12.564873126715405)   \n",
       "1272                1.159296  (55.67439305996968, 12.564873126715405)   \n",
       "\n",
       "                                   Add_Lat_Lon  \n",
       "30     (55.67519799487328, 12.491473106706982)  \n",
       "96      (55.6736054583134, 12.554586012089635)  \n",
       "102    (55.68736816668332, 12.562594562752952)  \n",
       "118    (55.66534622978468, 12.488931049590505)  \n",
       "165    (55.67301003539963, 12.542399539464558)  \n",
       "369    (55.66217752047773, 12.631272276163509)  \n",
       "370    (55.66308797876275, 12.619642149294114)  \n",
       "467    (55.68736816668332, 12.562594562752952)  \n",
       "476    (55.68320205807227, 12.562463281792615)  \n",
       "537   (55.719527260218584, 12.575186502612288)  \n",
       "878   (55.672684468194134, 12.549880050378789)  \n",
       "981      (55.6212264447242, 12.57591827741532)  \n",
       "997      (55.67143741654785, 12.5746771737368)  \n",
       "1054   (55.69148418759671, 12.527087104627048)  \n",
       "1272    (55.67900000000003, 12.58146000000005)  "
      ]
     },
     "execution_count": 302,
     "metadata": {},
     "output_type": "execute_result"
    }
   ],
   "source": [
    "Room6"
   ]
  },
  {
   "cell_type": "markdown",
   "id": "18030b82",
   "metadata": {},
   "source": [
    "## Folium Libaray to Display Copenhagen Map\n",
    "    \n",
    "    - 6 Rooms are highlighted on Copenhagen map with their rents"
   ]
  },
  {
   "cell_type": "code",
   "execution_count": 303,
   "id": "0f7a457a",
   "metadata": {},
   "outputs": [
    {
     "data": {
      "text/html": [
       "<div style=\"width:100%;\"><div style=\"position:relative;width:100%;height:0;padding-bottom:60%;\"><span style=\"color:#565656\">Make this Notebook Trusted to load map: File -> Trust Notebook</span><iframe src=\"about:blank\" style=\"position:absolute;width:100%;height:100%;left:0;top:0;border:none !important;\" data-html=%3C%21DOCTYPE%20html%3E%0A%3Chead%3E%20%20%20%20%0A%20%20%20%20%3Cmeta%20http-equiv%3D%22content-type%22%20content%3D%22text/html%3B%20charset%3DUTF-8%22%20/%3E%0A%20%20%20%20%0A%20%20%20%20%20%20%20%20%3Cscript%3E%0A%20%20%20%20%20%20%20%20%20%20%20%20L_NO_TOUCH%20%3D%20false%3B%0A%20%20%20%20%20%20%20%20%20%20%20%20L_DISABLE_3D%20%3D%20false%3B%0A%20%20%20%20%20%20%20%20%3C/script%3E%0A%20%20%20%20%0A%20%20%20%20%3Cstyle%3Ehtml%2C%20body%20%7Bwidth%3A%20100%25%3Bheight%3A%20100%25%3Bmargin%3A%200%3Bpadding%3A%200%3B%7D%3C/style%3E%0A%20%20%20%20%3Cstyle%3E%23map%20%7Bposition%3Aabsolute%3Btop%3A0%3Bbottom%3A0%3Bright%3A0%3Bleft%3A0%3B%7D%3C/style%3E%0A%20%20%20%20%3Cscript%20src%3D%22https%3A//cdn.jsdelivr.net/npm/leaflet%401.6.0/dist/leaflet.js%22%3E%3C/script%3E%0A%20%20%20%20%3Cscript%20src%3D%22https%3A//code.jquery.com/jquery-1.12.4.min.js%22%3E%3C/script%3E%0A%20%20%20%20%3Cscript%20src%3D%22https%3A//maxcdn.bootstrapcdn.com/bootstrap/3.2.0/js/bootstrap.min.js%22%3E%3C/script%3E%0A%20%20%20%20%3Cscript%20src%3D%22https%3A//cdnjs.cloudflare.com/ajax/libs/Leaflet.awesome-markers/2.0.2/leaflet.awesome-markers.js%22%3E%3C/script%3E%0A%20%20%20%20%3Clink%20rel%3D%22stylesheet%22%20href%3D%22https%3A//cdn.jsdelivr.net/npm/leaflet%401.6.0/dist/leaflet.css%22/%3E%0A%20%20%20%20%3Clink%20rel%3D%22stylesheet%22%20href%3D%22https%3A//maxcdn.bootstrapcdn.com/bootstrap/3.2.0/css/bootstrap.min.css%22/%3E%0A%20%20%20%20%3Clink%20rel%3D%22stylesheet%22%20href%3D%22https%3A//maxcdn.bootstrapcdn.com/bootstrap/3.2.0/css/bootstrap-theme.min.css%22/%3E%0A%20%20%20%20%3Clink%20rel%3D%22stylesheet%22%20href%3D%22https%3A//maxcdn.bootstrapcdn.com/font-awesome/4.6.3/css/font-awesome.min.css%22/%3E%0A%20%20%20%20%3Clink%20rel%3D%22stylesheet%22%20href%3D%22https%3A//cdnjs.cloudflare.com/ajax/libs/Leaflet.awesome-markers/2.0.2/leaflet.awesome-markers.css%22/%3E%0A%20%20%20%20%3Clink%20rel%3D%22stylesheet%22%20href%3D%22https%3A//cdn.jsdelivr.net/gh/python-visualization/folium/folium/templates/leaflet.awesome.rotate.min.css%22/%3E%0A%20%20%20%20%0A%20%20%20%20%20%20%20%20%20%20%20%20%3Cmeta%20name%3D%22viewport%22%20content%3D%22width%3Ddevice-width%2C%0A%20%20%20%20%20%20%20%20%20%20%20%20%20%20%20%20initial-scale%3D1.0%2C%20maximum-scale%3D1.0%2C%20user-scalable%3Dno%22%20/%3E%0A%20%20%20%20%20%20%20%20%20%20%20%20%3Cstyle%3E%0A%20%20%20%20%20%20%20%20%20%20%20%20%20%20%20%20%23map_ccefb0d039304954a8be37e8f6a0e637%20%7B%0A%20%20%20%20%20%20%20%20%20%20%20%20%20%20%20%20%20%20%20%20position%3A%20relative%3B%0A%20%20%20%20%20%20%20%20%20%20%20%20%20%20%20%20%20%20%20%20width%3A%20100.0%25%3B%0A%20%20%20%20%20%20%20%20%20%20%20%20%20%20%20%20%20%20%20%20height%3A%20100.0%25%3B%0A%20%20%20%20%20%20%20%20%20%20%20%20%20%20%20%20%20%20%20%20left%3A%200.0%25%3B%0A%20%20%20%20%20%20%20%20%20%20%20%20%20%20%20%20%20%20%20%20top%3A%200.0%25%3B%0A%20%20%20%20%20%20%20%20%20%20%20%20%20%20%20%20%7D%0A%20%20%20%20%20%20%20%20%20%20%20%20%3C/style%3E%0A%20%20%20%20%20%20%20%20%0A%3C/head%3E%0A%3Cbody%3E%20%20%20%20%0A%20%20%20%20%0A%20%20%20%20%20%20%20%20%20%20%20%20%3Cdiv%20class%3D%22folium-map%22%20id%3D%22map_ccefb0d039304954a8be37e8f6a0e637%22%20%3E%3C/div%3E%0A%20%20%20%20%20%20%20%20%0A%3C/body%3E%0A%3Cscript%3E%20%20%20%20%0A%20%20%20%20%0A%20%20%20%20%20%20%20%20%20%20%20%20var%20map_ccefb0d039304954a8be37e8f6a0e637%20%3D%20L.map%28%0A%20%20%20%20%20%20%20%20%20%20%20%20%20%20%20%20%22map_ccefb0d039304954a8be37e8f6a0e637%22%2C%0A%20%20%20%20%20%20%20%20%20%20%20%20%20%20%20%20%7B%0A%20%20%20%20%20%20%20%20%20%20%20%20%20%20%20%20%20%20%20%20center%3A%20%5B55.67439305996968%2C%2012.564873126715405%5D%2C%0A%20%20%20%20%20%20%20%20%20%20%20%20%20%20%20%20%20%20%20%20crs%3A%20L.CRS.EPSG3857%2C%0A%20%20%20%20%20%20%20%20%20%20%20%20%20%20%20%20%20%20%20%20zoom%3A%2013%2C%0A%20%20%20%20%20%20%20%20%20%20%20%20%20%20%20%20%20%20%20%20zoomControl%3A%20true%2C%0A%20%20%20%20%20%20%20%20%20%20%20%20%20%20%20%20%20%20%20%20preferCanvas%3A%20false%2C%0A%20%20%20%20%20%20%20%20%20%20%20%20%20%20%20%20%7D%0A%20%20%20%20%20%20%20%20%20%20%20%20%29%3B%0A%0A%20%20%20%20%20%20%20%20%20%20%20%20%0A%0A%20%20%20%20%20%20%20%20%0A%20%20%20%20%0A%20%20%20%20%20%20%20%20%20%20%20%20var%20tile_layer_ab1c4849f57946c2b5f9e9a182afec69%20%3D%20L.tileLayer%28%0A%20%20%20%20%20%20%20%20%20%20%20%20%20%20%20%20%22https%3A//%7Bs%7D.tile.openstreetmap.org/%7Bz%7D/%7Bx%7D/%7By%7D.png%22%2C%0A%20%20%20%20%20%20%20%20%20%20%20%20%20%20%20%20%7B%22attribution%22%3A%20%22Data%20by%20%5Cu0026copy%3B%20%5Cu003ca%20href%3D%5C%22http%3A//openstreetmap.org%5C%22%5Cu003eOpenStreetMap%5Cu003c/a%5Cu003e%2C%20under%20%5Cu003ca%20href%3D%5C%22http%3A//www.openstreetmap.org/copyright%5C%22%5Cu003eODbL%5Cu003c/a%5Cu003e.%22%2C%20%22detectRetina%22%3A%20false%2C%20%22maxNativeZoom%22%3A%2018%2C%20%22maxZoom%22%3A%2018%2C%20%22minZoom%22%3A%200%2C%20%22noWrap%22%3A%20false%2C%20%22opacity%22%3A%201%2C%20%22subdomains%22%3A%20%22abc%22%2C%20%22tms%22%3A%20false%7D%0A%20%20%20%20%20%20%20%20%20%20%20%20%29.addTo%28map_ccefb0d039304954a8be37e8f6a0e637%29%3B%0A%20%20%20%20%20%20%20%20%0A%20%20%20%20%0A%20%20%20%20%20%20%20%20%20%20%20%20var%20marker_0fa29902489f4fa3bfe9da8c0d3b8333%20%3D%20L.marker%28%0A%20%20%20%20%20%20%20%20%20%20%20%20%20%20%20%20%5B55.67519799487328%2C%2012.491473106706982%5D%2C%0A%20%20%20%20%20%20%20%20%20%20%20%20%20%20%20%20%7B%7D%0A%20%20%20%20%20%20%20%20%20%20%20%20%29.addTo%28map_ccefb0d039304954a8be37e8f6a0e637%29%3B%0A%20%20%20%20%20%20%20%20%0A%20%20%20%20%0A%20%20%20%20%20%20%20%20var%20popup_4c7ec9b25af147f186851c27fa5f9c65%20%3D%20L.popup%28%7B%22maxWidth%22%3A%20%22100%25%22%7D%29%3B%0A%0A%20%20%20%20%20%20%20%20%0A%20%20%20%20%20%20%20%20%20%20%20%20var%20html_342696bf411649cd87a8832ed668aa49%20%3D%20%24%28%60%3Cdiv%20id%3D%22html_342696bf411649cd87a8832ed668aa49%22%20style%3D%22width%3A%20100.0%25%3B%20height%3A%20100.0%25%3B%22%3E22.0%3C/div%3E%60%29%5B0%5D%3B%0A%20%20%20%20%20%20%20%20%20%20%20%20popup_4c7ec9b25af147f186851c27fa5f9c65.setContent%28html_342696bf411649cd87a8832ed668aa49%29%3B%0A%20%20%20%20%20%20%20%20%0A%0A%20%20%20%20%20%20%20%20marker_0fa29902489f4fa3bfe9da8c0d3b8333.bindPopup%28popup_4c7ec9b25af147f186851c27fa5f9c65%29%0A%20%20%20%20%20%20%20%20%3B%0A%0A%20%20%20%20%20%20%20%20%0A%20%20%20%20%0A%20%20%20%20%0A%20%20%20%20%20%20%20%20%20%20%20%20marker_0fa29902489f4fa3bfe9da8c0d3b8333.bindTooltip%28%0A%20%20%20%20%20%20%20%20%20%20%20%20%20%20%20%20%60%3Cdiv%3E%0A%20%20%20%20%20%20%20%20%20%20%20%20%20%20%20%20%20%20%20%20%206%20Rooms%0A%20%20%20%20%20%20%20%20%20%20%20%20%20%20%20%20%20%3C/div%3E%60%2C%0A%20%20%20%20%20%20%20%20%20%20%20%20%20%20%20%20%7B%22sticky%22%3A%20true%7D%0A%20%20%20%20%20%20%20%20%20%20%20%20%29%3B%0A%20%20%20%20%20%20%20%20%0A%20%20%20%20%0A%20%20%20%20%20%20%20%20%20%20%20%20var%20marker_b17d2488f7b944f18c44f3d27c9f7d99%20%3D%20L.marker%28%0A%20%20%20%20%20%20%20%20%20%20%20%20%20%20%20%20%5B55.6736054583134%2C%2012.554586012089635%5D%2C%0A%20%20%20%20%20%20%20%20%20%20%20%20%20%20%20%20%7B%7D%0A%20%20%20%20%20%20%20%20%20%20%20%20%29.addTo%28map_ccefb0d039304954a8be37e8f6a0e637%29%3B%0A%20%20%20%20%20%20%20%20%0A%20%20%20%20%0A%20%20%20%20%20%20%20%20var%20popup_1b34f180894b4db7a6aa7e6d9d4f9cc9%20%3D%20L.popup%28%7B%22maxWidth%22%3A%20%22100%25%22%7D%29%3B%0A%0A%20%20%20%20%20%20%20%20%0A%20%20%20%20%20%20%20%20%20%20%20%20var%20html_31dafef7b44b489d87d12d1ecde42ed8%20%3D%20%24%28%60%3Cdiv%20id%3D%22html_31dafef7b44b489d87d12d1ecde42ed8%22%20style%3D%22width%3A%20100.0%25%3B%20height%3A%20100.0%25%3B%22%3E28.8%3C/div%3E%60%29%5B0%5D%3B%0A%20%20%20%20%20%20%20%20%20%20%20%20popup_1b34f180894b4db7a6aa7e6d9d4f9cc9.setContent%28html_31dafef7b44b489d87d12d1ecde42ed8%29%3B%0A%20%20%20%20%20%20%20%20%0A%0A%20%20%20%20%20%20%20%20marker_b17d2488f7b944f18c44f3d27c9f7d99.bindPopup%28popup_1b34f180894b4db7a6aa7e6d9d4f9cc9%29%0A%20%20%20%20%20%20%20%20%3B%0A%0A%20%20%20%20%20%20%20%20%0A%20%20%20%20%0A%20%20%20%20%0A%20%20%20%20%20%20%20%20%20%20%20%20marker_b17d2488f7b944f18c44f3d27c9f7d99.bindTooltip%28%0A%20%20%20%20%20%20%20%20%20%20%20%20%20%20%20%20%60%3Cdiv%3E%0A%20%20%20%20%20%20%20%20%20%20%20%20%20%20%20%20%20%20%20%20%206%20Rooms%0A%20%20%20%20%20%20%20%20%20%20%20%20%20%20%20%20%20%3C/div%3E%60%2C%0A%20%20%20%20%20%20%20%20%20%20%20%20%20%20%20%20%7B%22sticky%22%3A%20true%7D%0A%20%20%20%20%20%20%20%20%20%20%20%20%29%3B%0A%20%20%20%20%20%20%20%20%0A%20%20%20%20%0A%20%20%20%20%20%20%20%20%20%20%20%20var%20marker_8f783372e14845929b1f033966ffb463%20%3D%20L.marker%28%0A%20%20%20%20%20%20%20%20%20%20%20%20%20%20%20%20%5B55.68736816668332%2C%2012.562594562752952%5D%2C%0A%20%20%20%20%20%20%20%20%20%20%20%20%20%20%20%20%7B%7D%0A%20%20%20%20%20%20%20%20%20%20%20%20%29.addTo%28map_ccefb0d039304954a8be37e8f6a0e637%29%3B%0A%20%20%20%20%20%20%20%20%0A%20%20%20%20%0A%20%20%20%20%20%20%20%20var%20popup_8733fccc5d9d460abb561eae033fc8a7%20%3D%20L.popup%28%7B%22maxWidth%22%3A%20%22100%25%22%7D%29%3B%0A%0A%20%20%20%20%20%20%20%20%0A%20%20%20%20%20%20%20%20%20%20%20%20var%20html_b636888ff00f4ee0b80fa51968f2548a%20%3D%20%24%28%60%3Cdiv%20id%3D%22html_b636888ff00f4ee0b80fa51968f2548a%22%20style%3D%22width%3A%20100.0%25%3B%20height%3A%20100.0%25%3B%22%3E30.0%3C/div%3E%60%29%5B0%5D%3B%0A%20%20%20%20%20%20%20%20%20%20%20%20popup_8733fccc5d9d460abb561eae033fc8a7.setContent%28html_b636888ff00f4ee0b80fa51968f2548a%29%3B%0A%20%20%20%20%20%20%20%20%0A%0A%20%20%20%20%20%20%20%20marker_8f783372e14845929b1f033966ffb463.bindPopup%28popup_8733fccc5d9d460abb561eae033fc8a7%29%0A%20%20%20%20%20%20%20%20%3B%0A%0A%20%20%20%20%20%20%20%20%0A%20%20%20%20%0A%20%20%20%20%0A%20%20%20%20%20%20%20%20%20%20%20%20marker_8f783372e14845929b1f033966ffb463.bindTooltip%28%0A%20%20%20%20%20%20%20%20%20%20%20%20%20%20%20%20%60%3Cdiv%3E%0A%20%20%20%20%20%20%20%20%20%20%20%20%20%20%20%20%20%20%20%20%206%20Rooms%0A%20%20%20%20%20%20%20%20%20%20%20%20%20%20%20%20%20%3C/div%3E%60%2C%0A%20%20%20%20%20%20%20%20%20%20%20%20%20%20%20%20%7B%22sticky%22%3A%20true%7D%0A%20%20%20%20%20%20%20%20%20%20%20%20%29%3B%0A%20%20%20%20%20%20%20%20%0A%20%20%20%20%0A%20%20%20%20%20%20%20%20%20%20%20%20var%20marker_e9815975a88d4672b623b9cc6f1fbeff%20%3D%20L.marker%28%0A%20%20%20%20%20%20%20%20%20%20%20%20%20%20%20%20%5B55.66534622978468%2C%2012.488931049590505%5D%2C%0A%20%20%20%20%20%20%20%20%20%20%20%20%20%20%20%20%7B%7D%0A%20%20%20%20%20%20%20%20%20%20%20%20%29.addTo%28map_ccefb0d039304954a8be37e8f6a0e637%29%3B%0A%20%20%20%20%20%20%20%20%0A%20%20%20%20%0A%20%20%20%20%20%20%20%20var%20popup_b376514b99724272b622881a41a93176%20%3D%20L.popup%28%7B%22maxWidth%22%3A%20%22100%25%22%7D%29%3B%0A%0A%20%20%20%20%20%20%20%20%0A%20%20%20%20%20%20%20%20%20%20%20%20var%20html_33c9596414fb4c2a884d1b81ac5706b6%20%3D%20%24%28%60%3Cdiv%20id%3D%22html_33c9596414fb4c2a884d1b81ac5706b6%22%20style%3D%22width%3A%20100.0%25%3B%20height%3A%20100.0%25%3B%22%3E24.0%3C/div%3E%60%29%5B0%5D%3B%0A%20%20%20%20%20%20%20%20%20%20%20%20popup_b376514b99724272b622881a41a93176.setContent%28html_33c9596414fb4c2a884d1b81ac5706b6%29%3B%0A%20%20%20%20%20%20%20%20%0A%0A%20%20%20%20%20%20%20%20marker_e9815975a88d4672b623b9cc6f1fbeff.bindPopup%28popup_b376514b99724272b622881a41a93176%29%0A%20%20%20%20%20%20%20%20%3B%0A%0A%20%20%20%20%20%20%20%20%0A%20%20%20%20%0A%20%20%20%20%0A%20%20%20%20%20%20%20%20%20%20%20%20marker_e9815975a88d4672b623b9cc6f1fbeff.bindTooltip%28%0A%20%20%20%20%20%20%20%20%20%20%20%20%20%20%20%20%60%3Cdiv%3E%0A%20%20%20%20%20%20%20%20%20%20%20%20%20%20%20%20%20%20%20%20%206%20Rooms%0A%20%20%20%20%20%20%20%20%20%20%20%20%20%20%20%20%20%3C/div%3E%60%2C%0A%20%20%20%20%20%20%20%20%20%20%20%20%20%20%20%20%7B%22sticky%22%3A%20true%7D%0A%20%20%20%20%20%20%20%20%20%20%20%20%29%3B%0A%20%20%20%20%20%20%20%20%0A%20%20%20%20%0A%20%20%20%20%20%20%20%20%20%20%20%20var%20marker_79fc1f2181964604bc728bbf46fe383e%20%3D%20L.marker%28%0A%20%20%20%20%20%20%20%20%20%20%20%20%20%20%20%20%5B55.67301003539963%2C%2012.542399539464558%5D%2C%0A%20%20%20%20%20%20%20%20%20%20%20%20%20%20%20%20%7B%7D%0A%20%20%20%20%20%20%20%20%20%20%20%20%29.addTo%28map_ccefb0d039304954a8be37e8f6a0e637%29%3B%0A%20%20%20%20%20%20%20%20%0A%20%20%20%20%0A%20%20%20%20%20%20%20%20var%20popup_57d3c0b66afc4e9c8d6ba1ac68b551a7%20%3D%20L.popup%28%7B%22maxWidth%22%3A%20%22100%25%22%7D%29%3B%0A%0A%20%20%20%20%20%20%20%20%0A%20%20%20%20%20%20%20%20%20%20%20%20var%20html_37bb08986bac42d4bb5d33ea4948a2c9%20%3D%20%24%28%60%3Cdiv%20id%3D%22html_37bb08986bac42d4bb5d33ea4948a2c9%22%20style%3D%22width%3A%20100.0%25%3B%20height%3A%20100.0%25%3B%22%3E24.0%3C/div%3E%60%29%5B0%5D%3B%0A%20%20%20%20%20%20%20%20%20%20%20%20popup_57d3c0b66afc4e9c8d6ba1ac68b551a7.setContent%28html_37bb08986bac42d4bb5d33ea4948a2c9%29%3B%0A%20%20%20%20%20%20%20%20%0A%0A%20%20%20%20%20%20%20%20marker_79fc1f2181964604bc728bbf46fe383e.bindPopup%28popup_57d3c0b66afc4e9c8d6ba1ac68b551a7%29%0A%20%20%20%20%20%20%20%20%3B%0A%0A%20%20%20%20%20%20%20%20%0A%20%20%20%20%0A%20%20%20%20%0A%20%20%20%20%20%20%20%20%20%20%20%20marker_79fc1f2181964604bc728bbf46fe383e.bindTooltip%28%0A%20%20%20%20%20%20%20%20%20%20%20%20%20%20%20%20%60%3Cdiv%3E%0A%20%20%20%20%20%20%20%20%20%20%20%20%20%20%20%20%20%20%20%20%206%20Rooms%0A%20%20%20%20%20%20%20%20%20%20%20%20%20%20%20%20%20%3C/div%3E%60%2C%0A%20%20%20%20%20%20%20%20%20%20%20%20%20%20%20%20%7B%22sticky%22%3A%20true%7D%0A%20%20%20%20%20%20%20%20%20%20%20%20%29%3B%0A%20%20%20%20%20%20%20%20%0A%20%20%20%20%0A%20%20%20%20%20%20%20%20%20%20%20%20var%20marker_8fd4e8b29f40451f95c572d05e1d438b%20%3D%20L.marker%28%0A%20%20%20%20%20%20%20%20%20%20%20%20%20%20%20%20%5B55.66217752047773%2C%2012.631272276163509%5D%2C%0A%20%20%20%20%20%20%20%20%20%20%20%20%20%20%20%20%7B%7D%0A%20%20%20%20%20%20%20%20%20%20%20%20%29.addTo%28map_ccefb0d039304954a8be37e8f6a0e637%29%3B%0A%20%20%20%20%20%20%20%20%0A%20%20%20%20%0A%20%20%20%20%20%20%20%20var%20popup_a93d1a2484ea4d5fb92f0f38a9abfd82%20%3D%20L.popup%28%7B%22maxWidth%22%3A%20%22100%25%22%7D%29%3B%0A%0A%20%20%20%20%20%20%20%20%0A%20%20%20%20%20%20%20%20%20%20%20%20var%20html_354ff6e4336c475c88f3da70999c8ce4%20%3D%20%24%28%60%3Cdiv%20id%3D%22html_354ff6e4336c475c88f3da70999c8ce4%22%20style%3D%22width%3A%20100.0%25%3B%20height%3A%20100.0%25%3B%22%3E19.3%3C/div%3E%60%29%5B0%5D%3B%0A%20%20%20%20%20%20%20%20%20%20%20%20popup_a93d1a2484ea4d5fb92f0f38a9abfd82.setContent%28html_354ff6e4336c475c88f3da70999c8ce4%29%3B%0A%20%20%20%20%20%20%20%20%0A%0A%20%20%20%20%20%20%20%20marker_8fd4e8b29f40451f95c572d05e1d438b.bindPopup%28popup_a93d1a2484ea4d5fb92f0f38a9abfd82%29%0A%20%20%20%20%20%20%20%20%3B%0A%0A%20%20%20%20%20%20%20%20%0A%20%20%20%20%0A%20%20%20%20%0A%20%20%20%20%20%20%20%20%20%20%20%20marker_8fd4e8b29f40451f95c572d05e1d438b.bindTooltip%28%0A%20%20%20%20%20%20%20%20%20%20%20%20%20%20%20%20%60%3Cdiv%3E%0A%20%20%20%20%20%20%20%20%20%20%20%20%20%20%20%20%20%20%20%20%206%20Rooms%0A%20%20%20%20%20%20%20%20%20%20%20%20%20%20%20%20%20%3C/div%3E%60%2C%0A%20%20%20%20%20%20%20%20%20%20%20%20%20%20%20%20%7B%22sticky%22%3A%20true%7D%0A%20%20%20%20%20%20%20%20%20%20%20%20%29%3B%0A%20%20%20%20%20%20%20%20%0A%20%20%20%20%0A%20%20%20%20%20%20%20%20%20%20%20%20var%20marker_6c3d0a6b2aa44a11bf672704444e8461%20%3D%20L.marker%28%0A%20%20%20%20%20%20%20%20%20%20%20%20%20%20%20%20%5B55.66308797876275%2C%2012.619642149294114%5D%2C%0A%20%20%20%20%20%20%20%20%20%20%20%20%20%20%20%20%7B%7D%0A%20%20%20%20%20%20%20%20%20%20%20%20%29.addTo%28map_ccefb0d039304954a8be37e8f6a0e637%29%3B%0A%20%20%20%20%20%20%20%20%0A%20%20%20%20%0A%20%20%20%20%20%20%20%20var%20popup_6b4e4637321f47459d0d897762243869%20%3D%20L.popup%28%7B%22maxWidth%22%3A%20%22100%25%22%7D%29%3B%0A%0A%20%20%20%20%20%20%20%20%0A%20%20%20%20%20%20%20%20%20%20%20%20var%20html_12dc9dfcb51e4207b7c0f29667c60ed3%20%3D%20%24%28%60%3Cdiv%20id%3D%22html_12dc9dfcb51e4207b7c0f29667c60ed3%22%20style%3D%22width%3A%20100.0%25%3B%20height%3A%20100.0%25%3B%22%3E19.5%3C/div%3E%60%29%5B0%5D%3B%0A%20%20%20%20%20%20%20%20%20%20%20%20popup_6b4e4637321f47459d0d897762243869.setContent%28html_12dc9dfcb51e4207b7c0f29667c60ed3%29%3B%0A%20%20%20%20%20%20%20%20%0A%0A%20%20%20%20%20%20%20%20marker_6c3d0a6b2aa44a11bf672704444e8461.bindPopup%28popup_6b4e4637321f47459d0d897762243869%29%0A%20%20%20%20%20%20%20%20%3B%0A%0A%20%20%20%20%20%20%20%20%0A%20%20%20%20%0A%20%20%20%20%0A%20%20%20%20%20%20%20%20%20%20%20%20marker_6c3d0a6b2aa44a11bf672704444e8461.bindTooltip%28%0A%20%20%20%20%20%20%20%20%20%20%20%20%20%20%20%20%60%3Cdiv%3E%0A%20%20%20%20%20%20%20%20%20%20%20%20%20%20%20%20%20%20%20%20%206%20Rooms%0A%20%20%20%20%20%20%20%20%20%20%20%20%20%20%20%20%20%3C/div%3E%60%2C%0A%20%20%20%20%20%20%20%20%20%20%20%20%20%20%20%20%7B%22sticky%22%3A%20true%7D%0A%20%20%20%20%20%20%20%20%20%20%20%20%29%3B%0A%20%20%20%20%20%20%20%20%0A%20%20%20%20%0A%20%20%20%20%20%20%20%20%20%20%20%20var%20marker_3402a296e0f044c68311f1848cbe14ba%20%3D%20L.marker%28%0A%20%20%20%20%20%20%20%20%20%20%20%20%20%20%20%20%5B55.68736816668332%2C%2012.562594562752952%5D%2C%0A%20%20%20%20%20%20%20%20%20%20%20%20%20%20%20%20%7B%7D%0A%20%20%20%20%20%20%20%20%20%20%20%20%29.addTo%28map_ccefb0d039304954a8be37e8f6a0e637%29%3B%0A%20%20%20%20%20%20%20%20%0A%20%20%20%20%0A%20%20%20%20%20%20%20%20var%20popup_e9d4f615c62641a7bb62b2d0cafe0508%20%3D%20L.popup%28%7B%22maxWidth%22%3A%20%22100%25%22%7D%29%3B%0A%0A%20%20%20%20%20%20%20%20%0A%20%20%20%20%20%20%20%20%20%20%20%20var%20html_edeee91d167e4533a5d7fd42ba5af0b6%20%3D%20%24%28%60%3Cdiv%20id%3D%22html_edeee91d167e4533a5d7fd42ba5af0b6%22%20style%3D%22width%3A%20100.0%25%3B%20height%3A%20100.0%25%3B%22%3E27.068%3C/div%3E%60%29%5B0%5D%3B%0A%20%20%20%20%20%20%20%20%20%20%20%20popup_e9d4f615c62641a7bb62b2d0cafe0508.setContent%28html_edeee91d167e4533a5d7fd42ba5af0b6%29%3B%0A%20%20%20%20%20%20%20%20%0A%0A%20%20%20%20%20%20%20%20marker_3402a296e0f044c68311f1848cbe14ba.bindPopup%28popup_e9d4f615c62641a7bb62b2d0cafe0508%29%0A%20%20%20%20%20%20%20%20%3B%0A%0A%20%20%20%20%20%20%20%20%0A%20%20%20%20%0A%20%20%20%20%0A%20%20%20%20%20%20%20%20%20%20%20%20marker_3402a296e0f044c68311f1848cbe14ba.bindTooltip%28%0A%20%20%20%20%20%20%20%20%20%20%20%20%20%20%20%20%60%3Cdiv%3E%0A%20%20%20%20%20%20%20%20%20%20%20%20%20%20%20%20%20%20%20%20%206%20Rooms%0A%20%20%20%20%20%20%20%20%20%20%20%20%20%20%20%20%20%3C/div%3E%60%2C%0A%20%20%20%20%20%20%20%20%20%20%20%20%20%20%20%20%7B%22sticky%22%3A%20true%7D%0A%20%20%20%20%20%20%20%20%20%20%20%20%29%3B%0A%20%20%20%20%20%20%20%20%0A%20%20%20%20%0A%20%20%20%20%20%20%20%20%20%20%20%20var%20marker_f97bfafe5a2f4bc2a25b98318dccd075%20%3D%20L.marker%28%0A%20%20%20%20%20%20%20%20%20%20%20%20%20%20%20%20%5B55.68320205807227%2C%2012.562463281792615%5D%2C%0A%20%20%20%20%20%20%20%20%20%20%20%20%20%20%20%20%7B%7D%0A%20%20%20%20%20%20%20%20%20%20%20%20%29.addTo%28map_ccefb0d039304954a8be37e8f6a0e637%29%3B%0A%20%20%20%20%20%20%20%20%0A%20%20%20%20%0A%20%20%20%20%20%20%20%20var%20popup_02bccbff4e64412ebf47f57f2bfbb598%20%3D%20L.popup%28%7B%22maxWidth%22%3A%20%22100%25%22%7D%29%3B%0A%0A%20%20%20%20%20%20%20%20%0A%20%20%20%20%20%20%20%20%20%20%20%20var%20html_79964fdda56f4a15af886c1882fc29c3%20%3D%20%24%28%60%3Cdiv%20id%3D%22html_79964fdda56f4a15af886c1882fc29c3%22%20style%3D%22width%3A%20100.0%25%3B%20height%3A%20100.0%25%3B%22%3E25.0%3C/div%3E%60%29%5B0%5D%3B%0A%20%20%20%20%20%20%20%20%20%20%20%20popup_02bccbff4e64412ebf47f57f2bfbb598.setContent%28html_79964fdda56f4a15af886c1882fc29c3%29%3B%0A%20%20%20%20%20%20%20%20%0A%0A%20%20%20%20%20%20%20%20marker_f97bfafe5a2f4bc2a25b98318dccd075.bindPopup%28popup_02bccbff4e64412ebf47f57f2bfbb598%29%0A%20%20%20%20%20%20%20%20%3B%0A%0A%20%20%20%20%20%20%20%20%0A%20%20%20%20%0A%20%20%20%20%0A%20%20%20%20%20%20%20%20%20%20%20%20marker_f97bfafe5a2f4bc2a25b98318dccd075.bindTooltip%28%0A%20%20%20%20%20%20%20%20%20%20%20%20%20%20%20%20%60%3Cdiv%3E%0A%20%20%20%20%20%20%20%20%20%20%20%20%20%20%20%20%20%20%20%20%206%20Rooms%0A%20%20%20%20%20%20%20%20%20%20%20%20%20%20%20%20%20%3C/div%3E%60%2C%0A%20%20%20%20%20%20%20%20%20%20%20%20%20%20%20%20%7B%22sticky%22%3A%20true%7D%0A%20%20%20%20%20%20%20%20%20%20%20%20%29%3B%0A%20%20%20%20%20%20%20%20%0A%20%20%20%20%0A%20%20%20%20%20%20%20%20%20%20%20%20var%20marker_d0a4fd0653704b93920f072324e2f720%20%3D%20L.marker%28%0A%20%20%20%20%20%20%20%20%20%20%20%20%20%20%20%20%5B55.719527260218584%2C%2012.575186502612288%5D%2C%0A%20%20%20%20%20%20%20%20%20%20%20%20%20%20%20%20%7B%7D%0A%20%20%20%20%20%20%20%20%20%20%20%20%29.addTo%28map_ccefb0d039304954a8be37e8f6a0e637%29%3B%0A%20%20%20%20%20%20%20%20%0A%20%20%20%20%0A%20%20%20%20%20%20%20%20var%20popup_9f84c1dba93840f4bbfb72efc469dab5%20%3D%20L.popup%28%7B%22maxWidth%22%3A%20%22100%25%22%7D%29%3B%0A%0A%20%20%20%20%20%20%20%20%0A%20%20%20%20%20%20%20%20%20%20%20%20var%20html_e517374f9c4047298f58a21032755530%20%3D%20%24%28%60%3Cdiv%20id%3D%22html_e517374f9c4047298f58a21032755530%22%20style%3D%22width%3A%20100.0%25%3B%20height%3A%20100.0%25%3B%22%3E45.0%3C/div%3E%60%29%5B0%5D%3B%0A%20%20%20%20%20%20%20%20%20%20%20%20popup_9f84c1dba93840f4bbfb72efc469dab5.setContent%28html_e517374f9c4047298f58a21032755530%29%3B%0A%20%20%20%20%20%20%20%20%0A%0A%20%20%20%20%20%20%20%20marker_d0a4fd0653704b93920f072324e2f720.bindPopup%28popup_9f84c1dba93840f4bbfb72efc469dab5%29%0A%20%20%20%20%20%20%20%20%3B%0A%0A%20%20%20%20%20%20%20%20%0A%20%20%20%20%0A%20%20%20%20%0A%20%20%20%20%20%20%20%20%20%20%20%20marker_d0a4fd0653704b93920f072324e2f720.bindTooltip%28%0A%20%20%20%20%20%20%20%20%20%20%20%20%20%20%20%20%60%3Cdiv%3E%0A%20%20%20%20%20%20%20%20%20%20%20%20%20%20%20%20%20%20%20%20%206%20Rooms%0A%20%20%20%20%20%20%20%20%20%20%20%20%20%20%20%20%20%3C/div%3E%60%2C%0A%20%20%20%20%20%20%20%20%20%20%20%20%20%20%20%20%7B%22sticky%22%3A%20true%7D%0A%20%20%20%20%20%20%20%20%20%20%20%20%29%3B%0A%20%20%20%20%20%20%20%20%0A%20%20%20%20%0A%20%20%20%20%20%20%20%20%20%20%20%20var%20marker_c5e9946c93bb4f93b1cb5d1f8f0e2d9f%20%3D%20L.marker%28%0A%20%20%20%20%20%20%20%20%20%20%20%20%20%20%20%20%5B55.672684468194134%2C%2012.549880050378789%5D%2C%0A%20%20%20%20%20%20%20%20%20%20%20%20%20%20%20%20%7B%7D%0A%20%20%20%20%20%20%20%20%20%20%20%20%29.addTo%28map_ccefb0d039304954a8be37e8f6a0e637%29%3B%0A%20%20%20%20%20%20%20%20%0A%20%20%20%20%0A%20%20%20%20%20%20%20%20var%20popup_1642a39ef72b4f4897e176f4ec36e1b3%20%3D%20L.popup%28%7B%22maxWidth%22%3A%20%22100%25%22%7D%29%3B%0A%0A%20%20%20%20%20%20%20%20%0A%20%20%20%20%20%20%20%20%20%20%20%20var%20html_f1cafd88fea1407e81cedd10ab3b6e2d%20%3D%20%24%28%60%3Cdiv%20id%3D%22html_f1cafd88fea1407e81cedd10ab3b6e2d%22%20style%3D%22width%3A%20100.0%25%3B%20height%3A%20100.0%25%3B%22%3E29.5%3C/div%3E%60%29%5B0%5D%3B%0A%20%20%20%20%20%20%20%20%20%20%20%20popup_1642a39ef72b4f4897e176f4ec36e1b3.setContent%28html_f1cafd88fea1407e81cedd10ab3b6e2d%29%3B%0A%20%20%20%20%20%20%20%20%0A%0A%20%20%20%20%20%20%20%20marker_c5e9946c93bb4f93b1cb5d1f8f0e2d9f.bindPopup%28popup_1642a39ef72b4f4897e176f4ec36e1b3%29%0A%20%20%20%20%20%20%20%20%3B%0A%0A%20%20%20%20%20%20%20%20%0A%20%20%20%20%0A%20%20%20%20%0A%20%20%20%20%20%20%20%20%20%20%20%20marker_c5e9946c93bb4f93b1cb5d1f8f0e2d9f.bindTooltip%28%0A%20%20%20%20%20%20%20%20%20%20%20%20%20%20%20%20%60%3Cdiv%3E%0A%20%20%20%20%20%20%20%20%20%20%20%20%20%20%20%20%20%20%20%20%206%20Rooms%0A%20%20%20%20%20%20%20%20%20%20%20%20%20%20%20%20%20%3C/div%3E%60%2C%0A%20%20%20%20%20%20%20%20%20%20%20%20%20%20%20%20%7B%22sticky%22%3A%20true%7D%0A%20%20%20%20%20%20%20%20%20%20%20%20%29%3B%0A%20%20%20%20%20%20%20%20%0A%20%20%20%20%0A%20%20%20%20%20%20%20%20%20%20%20%20var%20marker_8baa5d822bbf434a89a51e53b99a19fe%20%3D%20L.marker%28%0A%20%20%20%20%20%20%20%20%20%20%20%20%20%20%20%20%5B55.6212264447242%2C%2012.57591827741532%5D%2C%0A%20%20%20%20%20%20%20%20%20%20%20%20%20%20%20%20%7B%7D%0A%20%20%20%20%20%20%20%20%20%20%20%20%29.addTo%28map_ccefb0d039304954a8be37e8f6a0e637%29%3B%0A%20%20%20%20%20%20%20%20%0A%20%20%20%20%0A%20%20%20%20%20%20%20%20var%20popup_691d51914c46432b9a7b2a7f179fd0a0%20%3D%20L.popup%28%7B%22maxWidth%22%3A%20%22100%25%22%7D%29%3B%0A%0A%20%20%20%20%20%20%20%20%0A%20%20%20%20%20%20%20%20%20%20%20%20var%20html_6991d968d1a3446597ca01899e723088%20%3D%20%24%28%60%3Cdiv%20id%3D%22html_6991d968d1a3446597ca01899e723088%22%20style%3D%22width%3A%20100.0%25%3B%20height%3A%20100.0%25%3B%22%3E35.0%3C/div%3E%60%29%5B0%5D%3B%0A%20%20%20%20%20%20%20%20%20%20%20%20popup_691d51914c46432b9a7b2a7f179fd0a0.setContent%28html_6991d968d1a3446597ca01899e723088%29%3B%0A%20%20%20%20%20%20%20%20%0A%0A%20%20%20%20%20%20%20%20marker_8baa5d822bbf434a89a51e53b99a19fe.bindPopup%28popup_691d51914c46432b9a7b2a7f179fd0a0%29%0A%20%20%20%20%20%20%20%20%3B%0A%0A%20%20%20%20%20%20%20%20%0A%20%20%20%20%0A%20%20%20%20%0A%20%20%20%20%20%20%20%20%20%20%20%20marker_8baa5d822bbf434a89a51e53b99a19fe.bindTooltip%28%0A%20%20%20%20%20%20%20%20%20%20%20%20%20%20%20%20%60%3Cdiv%3E%0A%20%20%20%20%20%20%20%20%20%20%20%20%20%20%20%20%20%20%20%20%206%20Rooms%0A%20%20%20%20%20%20%20%20%20%20%20%20%20%20%20%20%20%3C/div%3E%60%2C%0A%20%20%20%20%20%20%20%20%20%20%20%20%20%20%20%20%7B%22sticky%22%3A%20true%7D%0A%20%20%20%20%20%20%20%20%20%20%20%20%29%3B%0A%20%20%20%20%20%20%20%20%0A%20%20%20%20%0A%20%20%20%20%20%20%20%20%20%20%20%20var%20marker_e304cd1045d24219a9bd461fefe8b904%20%3D%20L.marker%28%0A%20%20%20%20%20%20%20%20%20%20%20%20%20%20%20%20%5B55.67143741654785%2C%2012.5746771737368%5D%2C%0A%20%20%20%20%20%20%20%20%20%20%20%20%20%20%20%20%7B%7D%0A%20%20%20%20%20%20%20%20%20%20%20%20%29.addTo%28map_ccefb0d039304954a8be37e8f6a0e637%29%3B%0A%20%20%20%20%20%20%20%20%0A%20%20%20%20%0A%20%20%20%20%20%20%20%20var%20popup_b459243244b042e087806dfccd182973%20%3D%20L.popup%28%7B%22maxWidth%22%3A%20%22100%25%22%7D%29%3B%0A%0A%20%20%20%20%20%20%20%20%0A%20%20%20%20%20%20%20%20%20%20%20%20var%20html_0e8719fa308e43289386d8d493cc8364%20%3D%20%24%28%60%3Cdiv%20id%3D%22html_0e8719fa308e43289386d8d493cc8364%22%20style%3D%22width%3A%20100.0%25%3B%20height%3A%20100.0%25%3B%22%3E29.8%3C/div%3E%60%29%5B0%5D%3B%0A%20%20%20%20%20%20%20%20%20%20%20%20popup_b459243244b042e087806dfccd182973.setContent%28html_0e8719fa308e43289386d8d493cc8364%29%3B%0A%20%20%20%20%20%20%20%20%0A%0A%20%20%20%20%20%20%20%20marker_e304cd1045d24219a9bd461fefe8b904.bindPopup%28popup_b459243244b042e087806dfccd182973%29%0A%20%20%20%20%20%20%20%20%3B%0A%0A%20%20%20%20%20%20%20%20%0A%20%20%20%20%0A%20%20%20%20%0A%20%20%20%20%20%20%20%20%20%20%20%20marker_e304cd1045d24219a9bd461fefe8b904.bindTooltip%28%0A%20%20%20%20%20%20%20%20%20%20%20%20%20%20%20%20%60%3Cdiv%3E%0A%20%20%20%20%20%20%20%20%20%20%20%20%20%20%20%20%20%20%20%20%206%20Rooms%0A%20%20%20%20%20%20%20%20%20%20%20%20%20%20%20%20%20%3C/div%3E%60%2C%0A%20%20%20%20%20%20%20%20%20%20%20%20%20%20%20%20%7B%22sticky%22%3A%20true%7D%0A%20%20%20%20%20%20%20%20%20%20%20%20%29%3B%0A%20%20%20%20%20%20%20%20%0A%20%20%20%20%0A%20%20%20%20%20%20%20%20%20%20%20%20var%20marker_7242b5b6fd8d4334aa1dde21c18d2f74%20%3D%20L.marker%28%0A%20%20%20%20%20%20%20%20%20%20%20%20%20%20%20%20%5B55.69148418759671%2C%2012.527087104627048%5D%2C%0A%20%20%20%20%20%20%20%20%20%20%20%20%20%20%20%20%7B%7D%0A%20%20%20%20%20%20%20%20%20%20%20%20%29.addTo%28map_ccefb0d039304954a8be37e8f6a0e637%29%3B%0A%20%20%20%20%20%20%20%20%0A%20%20%20%20%0A%20%20%20%20%20%20%20%20var%20popup_ee686be845b04aa49ab2e19a5ce1d812%20%3D%20L.popup%28%7B%22maxWidth%22%3A%20%22100%25%22%7D%29%3B%0A%0A%20%20%20%20%20%20%20%20%0A%20%20%20%20%20%20%20%20%20%20%20%20var%20html_940d09cb7ba64389aa84027f688e7958%20%3D%20%24%28%60%3Cdiv%20id%3D%22html_940d09cb7ba64389aa84027f688e7958%22%20style%3D%22width%3A%20100.0%25%3B%20height%3A%20100.0%25%3B%22%3E27.5%3C/div%3E%60%29%5B0%5D%3B%0A%20%20%20%20%20%20%20%20%20%20%20%20popup_ee686be845b04aa49ab2e19a5ce1d812.setContent%28html_940d09cb7ba64389aa84027f688e7958%29%3B%0A%20%20%20%20%20%20%20%20%0A%0A%20%20%20%20%20%20%20%20marker_7242b5b6fd8d4334aa1dde21c18d2f74.bindPopup%28popup_ee686be845b04aa49ab2e19a5ce1d812%29%0A%20%20%20%20%20%20%20%20%3B%0A%0A%20%20%20%20%20%20%20%20%0A%20%20%20%20%0A%20%20%20%20%0A%20%20%20%20%20%20%20%20%20%20%20%20marker_7242b5b6fd8d4334aa1dde21c18d2f74.bindTooltip%28%0A%20%20%20%20%20%20%20%20%20%20%20%20%20%20%20%20%60%3Cdiv%3E%0A%20%20%20%20%20%20%20%20%20%20%20%20%20%20%20%20%20%20%20%20%206%20Rooms%0A%20%20%20%20%20%20%20%20%20%20%20%20%20%20%20%20%20%3C/div%3E%60%2C%0A%20%20%20%20%20%20%20%20%20%20%20%20%20%20%20%20%7B%22sticky%22%3A%20true%7D%0A%20%20%20%20%20%20%20%20%20%20%20%20%29%3B%0A%20%20%20%20%20%20%20%20%0A%20%20%20%20%0A%20%20%20%20%20%20%20%20%20%20%20%20var%20marker_0ec45655e31f41359e095bbd5fe66a7f%20%3D%20L.marker%28%0A%20%20%20%20%20%20%20%20%20%20%20%20%20%20%20%20%5B55.67900000000003%2C%2012.58146000000005%5D%2C%0A%20%20%20%20%20%20%20%20%20%20%20%20%20%20%20%20%7B%7D%0A%20%20%20%20%20%20%20%20%20%20%20%20%29.addTo%28map_ccefb0d039304954a8be37e8f6a0e637%29%3B%0A%20%20%20%20%20%20%20%20%0A%20%20%20%20%0A%20%20%20%20%20%20%20%20var%20popup_6fed3991a1be4cd482374dd493c464ed%20%3D%20L.popup%28%7B%22maxWidth%22%3A%20%22100%25%22%7D%29%3B%0A%0A%20%20%20%20%20%20%20%20%0A%20%20%20%20%20%20%20%20%20%20%20%20var%20html_ad0067664f6848f882ae27298d118021%20%3D%20%24%28%60%3Cdiv%20id%3D%22html_ad0067664f6848f882ae27298d118021%22%20style%3D%22width%3A%20100.0%25%3B%20height%3A%20100.0%25%3B%22%3E25.0%3C/div%3E%60%29%5B0%5D%3B%0A%20%20%20%20%20%20%20%20%20%20%20%20popup_6fed3991a1be4cd482374dd493c464ed.setContent%28html_ad0067664f6848f882ae27298d118021%29%3B%0A%20%20%20%20%20%20%20%20%0A%0A%20%20%20%20%20%20%20%20marker_0ec45655e31f41359e095bbd5fe66a7f.bindPopup%28popup_6fed3991a1be4cd482374dd493c464ed%29%0A%20%20%20%20%20%20%20%20%3B%0A%0A%20%20%20%20%20%20%20%20%0A%20%20%20%20%0A%20%20%20%20%0A%20%20%20%20%20%20%20%20%20%20%20%20marker_0ec45655e31f41359e095bbd5fe66a7f.bindTooltip%28%0A%20%20%20%20%20%20%20%20%20%20%20%20%20%20%20%20%60%3Cdiv%3E%0A%20%20%20%20%20%20%20%20%20%20%20%20%20%20%20%20%20%20%20%20%206%20Rooms%0A%20%20%20%20%20%20%20%20%20%20%20%20%20%20%20%20%20%3C/div%3E%60%2C%0A%20%20%20%20%20%20%20%20%20%20%20%20%20%20%20%20%7B%22sticky%22%3A%20true%7D%0A%20%20%20%20%20%20%20%20%20%20%20%20%29%3B%0A%20%20%20%20%20%20%20%20%0A%3C/script%3E onload=\"this.contentDocument.open();this.contentDocument.write(    decodeURIComponent(this.getAttribute('data-html')));this.contentDocument.close();\" allowfullscreen webkitallowfullscreen mozallowfullscreen></iframe></div></div>"
      ],
      "text/plain": [
       "<folium.folium.Map at 0x2c53153ce50>"
      ]
     },
     "execution_count": 303,
     "metadata": {},
     "output_type": "execute_result"
    }
   ],
   "source": [
    "center = [55.67439305996968, 12.564873126715405]\n",
    "map_Copenhagen = folium.Map(location=center, zoom_start=13)\n",
    "\n",
    "for i,r in Room6.iterrows():\n",
    "    folium.Marker(location=r['Add_Lat_Lon'],\n",
    "                    popup = r['Rent'],\n",
    "                    tooltip ='6 Rooms').add_to(map_Copenhagen)\n",
    "#display map\n",
    "map_Copenhagen"
   ]
  },
  {
   "cell_type": "code",
   "execution_count": null,
   "id": "dc9b3f4b",
   "metadata": {},
   "outputs": [],
   "source": []
  }
 ],
 "metadata": {
  "kernelspec": {
   "display_name": "Python 3 (ipykernel)",
   "language": "python",
   "name": "python3"
  },
  "language_info": {
   "codemirror_mode": {
    "name": "ipython",
    "version": 3
   },
   "file_extension": ".py",
   "mimetype": "text/x-python",
   "name": "python",
   "nbconvert_exporter": "python",
   "pygments_lexer": "ipython3",
   "version": "3.9.7"
  }
 },
 "nbformat": 4,
 "nbformat_minor": 5
}
